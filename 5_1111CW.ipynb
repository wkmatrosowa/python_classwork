{
 "cells": [
  {
   "cell_type": "markdown",
   "metadata": {
    "collapsed": true,
    "pycharm": {
     "name": "#%% md\n"
    }
   },
   "source": [
    "# Модуль os\n",
    "\n",
    "Осуществляет взаимодействие программы с операционной системой, в нем много полезных штук.\n",
    "\n",
    "Взаимодействует с файловой системой.\n",
    "\n",
    "Например, нам хочется узнать, что лежит в определенной директории (файлы и папки)."
   ]
  },
  {
   "cell_type": "code",
   "execution_count": null,
   "outputs": [],
   "source": [
    "import os\n",
    "\n",
    "lst = os.listdir(\"/Путь к директории, которую хотим посмотреть\")\n",
    "\n",
    "#Если интересует текущая директория\n",
    "\n",
    "lst = os.listdir(\".\")\n"
   ],
   "metadata": {
    "collapsed": false,
    "pycharm": {
     "name": "#%% \n"
    }
   }
  },
  {
   "cell_type": "markdown",
   "source": [
    "И мы получим список файлов из этой директории! Дальше можем пройти по нему циклом,\n",
    "чтобы облегчить нашу жизнь (вдруг в папке 1000 файлов, вручную их вбивать долго)"
   ],
   "metadata": {
    "collapsed": false,
    "pycharm": {
     "name": "#%% md\n"
    }
   }
  },
  {
   "cell_type": "code",
   "execution_count": null,
   "outputs": [],
   "source": [
    "for fl in lst:\n",
    "    "
   ],
   "metadata": {
    "collapsed": false,
    "pycharm": {
     "name": "#%% \n"
    }
   }
  },
  {
   "cell_type": "markdown",
   "source": [
    "Нюанс: если директория текущая, то такое не сработает:"
   ],
   "metadata": {
    "collapsed": false,
    "pycharm": {
     "name": "#%% md\n"
    }
   }
  },
  {
   "cell_type": "code",
   "execution_count": null,
   "outputs": [],
   "source": [
    "for fl in lst:\n",
    "    with open(fl) as f:\n",
    "        "
   ],
   "metadata": {
    "collapsed": false,
    "pycharm": {
     "name": "#%%\n"
    }
   }
  },
  {
   "cell_type": "markdown",
   "source": [
    "Питон скажет, что такого файла нет, потому что не будет совпадать путь к файлу (если файл\n",
    "лежит в одной директории, а мы в другой открываем) Исправим:"
   ],
   "metadata": {
    "collapsed": false,
    "pycharm": {
     "name": "#%% md\n"
    }
   }
  },
  {
   "cell_type": "code",
   "execution_count": null,
   "outputs": [],
   "source": [
    "path = \"Наш путь\"\n",
    "lst = os.listdir(path)\n",
    "for fl in lst:\n",
    "    with open(\"{}/{}\".format(path, fl)) as f:\n",
    "\n",
    "#Способ соединить строки\n",
    "#Разделитель пути / нужен, если мы в нашем пути на ставим / в конце"
   ],
   "metadata": {
    "collapsed": false,
    "pycharm": {
     "name": "#%%\n"
    }
   }
  },
  {
   "cell_type": "markdown",
   "source": [
    "Есть переменные, а есть константы – их принято обозначать большими буквами:\n",
    "\n",
    "PATH"
   ],
   "metadata": {
    "collapsed": false,
    "pycharm": {
     "name": "#%% md\n"
    }
   }
  },
  {
   "cell_type": "code",
   "execution_count": null,
   "outputs": [],
   "source": [
    "PATH = \"\"\n",
    "def func1():\n",
    "    with open(PATH)\n",
    "        \n",
    "#если попробуем изменить PATH, у нас не получится. Мы можем\n",
    "#забирать информацию из нее, но поменять ее нельзя"
   ],
   "metadata": {
    "collapsed": false,
    "pycharm": {
     "name": "#%%\n"
    }
   }
  },
  {
   "cell_type": "markdown",
   "source": [
    "Мы можем проверять файлы в директории. Это классно, чтобы обработать 1 директорию."
   ],
   "metadata": {
    "collapsed": false,
    "pycharm": {
     "name": "#%% md\n"
    }
   }
  },
  {
   "cell_type": "code",
   "execution_count": null,
   "outputs": [],
   "source": [
    "PATH = \"Наш путь\"\n",
    "lst = os.listdir(PATH)\n",
    "if not fl.endswith(\".txt\"):\n",
    "    continue\n",
    "for fl in lst:\n",
    "    with open(\"{}/{}\".format(PATH, fl)) as f:\n"
   ],
   "metadata": {
    "collapsed": false,
    "pycharm": {
     "name": "#%%\n"
    }
   }
  },
  {
   "cell_type": "markdown",
   "source": [
    "А если у нас файлы лежат в разных папках, и у нас сложная структура?\n",
    "\n",
    "Рекурсивный обход директории\n",
    "\n",
    "То, что сейчас будем делать, применяем, если надо рекурсивно обойти директорию \n",
    "(если все в 1 директории, делать так не надо)\n",
    "\n",
    "Что здесь происходит:\n",
    "В root будет попадать путь в одну из вложенных папок\n",
    "В dirs будет попадать список того, что в папке\n",
    "В files файлы"
   ],
   "metadata": {
    "collapsed": false,
    "pycharm": {
     "name": "#%% md\n"
    }
   }
  },
  {
   "cell_type": "code",
   "execution_count": null,
   "outputs": [],
   "source": [
    "for root, dirs, files in os.walk(path):\n",
    "    for fl in files:\n",
    "        f = open(\"{}/{}\".format(root, fl))\n",
    "        "
   ],
   "metadata": {
    "collapsed": false,
    "pycharm": {
     "name": "#%%\n"
    }
   }
  },
  {
   "cell_type": "markdown",
   "source": [
    "С модулем os мы можем узнать, существует ли файл или директория\n",
    "\n",
    "Можно создать директорию, если ее нет\n",
    "\n",
    "Можно создать файл (для этого его надо открыть)"
   ],
   "metadata": {
    "collapsed": false,
    "pycharm": {
     "name": "#%% md\n"
    }
   }
  },
  {
   "cell_type": "code",
   "execution_count": null,
   "outputs": [],
   "source": [
    "if os.path.exists(path):\n",
    "#exists выдает True или False – есть или нет\n",
    "\n",
    "if os.path.exists(path):\n",
    "    os.mkdir(path)\n",
    "#Создать директорию"
   ],
   "metadata": {
    "collapsed": false,
    "pycharm": {
     "name": "#%%\n"
    }
   }
  },
  {
   "cell_type": "markdown",
   "source": [
    "Еще прикольные штуки:"
   ],
   "metadata": {
    "collapsed": false,
    "pycharm": {
     "name": "#%% md\n"
    }
   }
  },
  {
   "cell_type": "code",
   "execution_count": 2,
   "outputs": [
    {
     "name": "stdout",
     "text": [
      "posix\n"
     ],
     "output_type": "stream"
    }
   ],
   "source": [
    "import os\n",
    "print(os.name)\n",
    "#Вывести название операционной системы\n",
    "\n",
    "os.system()\n",
    "#позволяет обращаться, грубо говоря, к командной строке\n",
    "\n",
    "#грубо говоря: вывести файлы\n",
    "os.system(\"ls\")\n",
    "\n",
    "#более хитро: из программы на питоне запустить программу на питоне\n",
    "os.system(\"python3 script.py\")\n",
    "#переменная – строка"
   ],
   "metadata": {
    "collapsed": false,
    "pycharm": {
     "name": "#%%\n",
     "is_executing": false
    }
   }
  },
  {
   "cell_type": "markdown",
   "source": [
    "# Модуль time\n",
    "\n",
    "Позволяет узнать, какое сейчас время, чтобы понять, сколько времени требуется программе\n",
    "для работы"
   ],
   "metadata": {
    "collapsed": false,
    "pycharm": {
     "name": "#%% md\n"
    }
   }
  },
  {
   "cell_type": "code",
   "execution_count": 3,
   "outputs": [],
   "source": [
    "import time\n",
    "t1 = time.time()\n",
    "#показывает время с начала эпохи Unix – Unix-time – 1 января 1970\n",
    "#1,5 миллиарда секунд прошло с того времени\n",
    "\n",
    "t2 = time.time()\n",
    "t2 - t1 #количество секунд, которое прошло между ними"
   ],
   "metadata": {
    "collapsed": false,
    "pycharm": {
     "name": "#%%",
     "is_executing": false
    }
   }
  },
  {
   "cell_type": "markdown",
   "source": [
    "1) Возьмем текст большого романа\n",
    "\n",
    "2) Разбить текст в соответствии с иерархическим членением\n",
    "\n",
    "3) Автоматически создать файлы с этими частями в папках, воспроизводящих структуру членения\n",
    "\n",
    "4) Посчитать слова в каждой папке\n",
    "\n",
    "Есть роман, в нем есть части (1, 2, 3)\n",
    "\n",
    "У нас должно быть на верхнем уровне 3 папки\n",
    "\n",
    "Внутри них главы (столько же папок, сколько глав)\n",
    "\n",
    "Внутри каждой главы 150 абзацев \n",
    "\n",
    "Внутри папки – 150 файлов, в каждом по абзацу\n",
    "\n",
    "Регулярки помогут найти границы между этими частями\n",
    "\n",
    "[IVXL]+ – римские цифры в регулярных выражениях"
   ],
   "metadata": {
    "collapsed": false,
    "pycharm": {
     "name": "#%% md\n"
    }
   }
  },
  {
   "cell_type": "code",
   "execution_count": null,
   "outputs": [],
   "source": [],
   "metadata": {
    "collapsed": false,
    "pycharm": {
     "name": "#%%\n"
    }
   }
  },
  {
   "cell_type": "markdown",
   "source": [],
   "metadata": {
    "collapsed": false,
    "pycharm": {
     "name": "#%% md\n"
    }
   }
  },
  {
   "cell_type": "code",
   "execution_count": null,
   "outputs": [],
   "source": [],
   "metadata": {
    "collapsed": false,
    "pycharm": {
     "name": "#%%"
    }
   }
  }
 ],
 "metadata": {
  "language_info": {
   "codemirror_mode": {
    "name": "ipython",
    "version": 2
   },
   "file_extension": ".py",
   "mimetype": "text/x-python",
   "name": "python",
   "nbconvert_exporter": "python",
   "pygments_lexer": "ipython2",
   "version": "2.7.6"
  },
  "kernelspec": {
   "name": "python3",
   "language": "python",
   "display_name": "Python 3"
  },
  "pycharm": {
   "stem_cell": {
    "cell_type": "raw",
    "source": [],
    "metadata": {
     "collapsed": false
    }
   }
  }
 },
 "nbformat": 4,
 "nbformat_minor": 0
}