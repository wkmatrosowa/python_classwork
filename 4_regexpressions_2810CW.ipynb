{
 "cells": [
  {
   "cell_type": "markdown",
   "metadata": {
    "collapsed": true,
    "pycharm": {
     "name": "#%% md\n"
    }
   },
   "source": [
    "# Вспоминаем функции\n"
   ]
  },
  {
   "cell_type": "code",
   "execution_count": 2,
   "outputs": [
    {
     "data": {
      "text/plain": "25"
     },
     "metadata": {},
     "output_type": "execute_result",
     "execution_count": 2
    }
   ],
   "source": [
    "def the_name(number):\n",
    "    return number ** 2\n",
    "\n",
    "the_name(5)\n",
    "#допустим, это файл first_example.py"
   ],
   "metadata": {
    "collapsed": false,
    "pycharm": {
     "name": "#%%\n",
     "is_executing": false
    }
   }
  },
  {
   "cell_type": "markdown",
   "source": [
    "## Как работает импортирование функции из файла в файл\n",
    "\n",
    "Питон, не прерывая выполнение программы, прочитывает, что есть в файле \"first_example.py\".\n",
    "Функцию из другой программы можно заставить работать внутри текущей"
   ],
   "metadata": {
    "collapsed": false,
    "pycharm": {
     "name": "#%% md\n"
    }
   }
  },
  {
   "cell_type": "code",
   "execution_count": null,
   "outputs": [],
   "source": [
    "import first_example\n",
    "\n",
    "i = input()\n",
    "i = int()\n",
    "print (first_example.the_name(i))\n",
    "#синтаксис – имя файла.имя функции"
   ],
   "metadata": {
    "collapsed": false,
    "pycharm": {
     "name": "#%%\n"
    }
   }
  },
  {
   "cell_type": "markdown",
   "source": [
    "При этом можно не вызыввать функцию в том файле, из которого мы импортируем.\n",
    "\n",
    "Пример импорта по-другому (тогда можно не называть имя файла)"
   ],
   "metadata": {
    "collapsed": false
   }
  },
  {
   "cell_type": "code",
   "execution_count": null,
   "outputs": [],
   "source": [
    "from first_example import *\n",
    "the_name(i)"
   ],
   "metadata": {
    "collapsed": false,
    "pycharm": {
     "name": "#%%\n"
    }
   }
  },
  {
   "cell_type": "markdown",
   "source": [
    "Еще способ:"
   ],
   "metadata": {
    "collapsed": false
   }
  },
  {
   "cell_type": "code",
   "execution_count": null,
   "outputs": [],
   "source": [
    "from first_example import the_name\n",
    "the_name(i)"
   ],
   "metadata": {
    "collapsed": false,
    "pycharm": {
     "name": "#%%\n"
    }
   }
  },
  {
   "cell_type": "markdown",
   "source": [
    "А если название файла очень длинное? Тогда можно переназывать имя модуля:"
   ],
   "metadata": {
    "collapsed": false
   }
  },
  {
   "cell_type": "code",
   "execution_count": null,
   "outputs": [],
   "source": [
    "import first_example as f\n",
    "f.the_name(i)"
   ],
   "metadata": {
    "collapsed": false,
    "pycharm": {
     "name": "#%%\n"
    }
   }
  },
  {
   "cell_type": "markdown",
   "source": [
    "А если файл лежит совсем в другом месте?\n",
    "\n",
    "Вообще создатели питона сделали кучу своих модулей: sys, os, re (регулярки!), random\n"
   ],
   "metadata": {
    "collapsed": false
   }
  },
  {
   "cell_type": "code",
   "execution_count": 4,
   "outputs": [
    {
     "name": "stdout",
     "text": [
      "15\n"
     ],
     "output_type": "stream"
    }
   ],
   "source": [
    "import random\n",
    "v = random.randint(1,40)\n",
    "print(v)\n"
   ],
   "metadata": {
    "collapsed": false,
    "pycharm": {
     "name": "#%%\n",
     "is_executing": false
    }
   }
  },
  {
   "cell_type": "markdown",
   "source": [
    "С помощью random можно не целое число доставать и делать много чего еще"
   ],
   "metadata": {
    "collapsed": false
   }
  },
  {
   "cell_type": "code",
   "execution_count": null,
   "outputs": [],
   "source": [
    "if __name__ = \"__main__\":\n",
    "    main()"
   ],
   "metadata": {
    "collapsed": false,
    "pycharm": {
     "name": "#%%\n"
    }
   }
  },
  {
   "cell_type": "markdown",
   "source": [
    "Тут пичарм завис, поэтому смотри на скриншот и вспоминай, что там было. Но жалко, что много чего пропало(\n",
    "\n",
    "## Модуль string"
   ],
   "metadata": {
    "collapsed": false,
    "pycharm": {
     "name": "#%% md\n"
    }
   }
  },
  {
   "cell_type": "code",
   "execution_count": null,
   "outputs": [],
   "source": [
    "import string\n",
    "string.punctuation\n",
    "string.digits\n",
    "\n",
    "#Используем strip(), чтобы активировать"
   ],
   "metadata": {
    "collapsed": false,
    "pycharm": {
     "name": "#%%\n"
    }
   }
  },
  {
   "cell_type": "markdown",
   "source": [
    "## Делаем дз\n",
    "\n",
    "1. Всё в функциях!\n",
    "2. Открываем и читаем файл\n",
    "3. Разбиваем на слова\n",
    "4. Выполняем предобработку\n",
    "5. Записываем слова в отдельный файл в формате tsv с указанием частотности\n",
    "\n",
    "слово | частотность\n",
    "\n",
    "я        15\n",
    "\n",
    "в        23\n",
    "\n",
    "матрос   1\n",
    "\n",
    "Что будет стоять на границе ячеек? В русской традиции запятая используется даже в одном числе (5,5), а в других странах\n",
    "используют точку (5.5). Компьютер в принципе путается, где проводить разграничение – по запятой? по точке?\n",
    "\n",
    "csv – формат под это\n",
    "\n",
    "В западных странах использовалась запятая какое-то время, но тем не менее это не очень удобно даже в других странах.\n",
    "\n",
    "Поэтому используют tab! Табуляция – такой тип разделения в табличных данных, с которым нет таких проблем. Поэтому мы используем\n",
    "tsv-формат.\n",
    "\n",
    "# Регулярные выражения\n",
    "\n",
    "Позволяют решать двузначность, ситуации с разным написанием слов"
   ],
   "metadata": {
    "collapsed": false,
    "pycharm": {
     "name": "#%% md\n"
    }
   }
  },
  {
   "cell_type": "code",
   "execution_count": null,
   "outputs": [],
   "source": [
    "import re\n",
    "\n",
    "if \"ana\" in string:\n",
    "    ...\n",
    "\n",
    "word = word.replace(\"a\", \"b\")\n",
    "\n"
   ],
   "metadata": {
    "collapsed": false,
    "pycharm": {
     "name": "#%%\n"
    }
   }
  },
  {
   "cell_type": "markdown",
   "source": [
    "стилеметрия или стилометрия?\n",
    "\n",
    "Лисабон или Лиссабон? \n",
    "\n",
    "Для таких случаев и существуют регулярные выражения\n",
    "\n",
    "точка (.) значит в регулярках любой символ (кроме \\n)\n",
    "\n",
    "[абв] – символьный класс\n",
    "\n",
    "[а-я] – диапазон значений (здесь – вся кириллица в нижнем регистре)\n",
    "\n",
    "[а-яА-ЯёЁ] – весь диапазон кириллицы\n",
    "\n",
    "(а|б) – логическое ИЛИ (может быть много вариантов –(а|б|в|г)\n",
    "\n",
    ".? – \"Ноль или один раз\" (квантификатор)\n",
    "\n",
    ".+ – \"Один или более раз\" (квантификатор)\n",
    "\n",
    "[а-я]+ – слово (из одной буквы или более)\n",
    "\n",
    ".* – \"Ноль или более раз\" (квантификатор)\n",
    "\n",
    "[а-я]* – ноль или сколько угодно букв\n",
    "\n",
    ".{2,5} – \"От 2 до 5\", что угодно внутри (квантификатор)\n",
    "\n",
    "\\w\n",
    "\n",
    "^ – начало данных (строка)\n",
    "\n",
    "$ – конец данных (строка)\n",
    "\n",
    "\"^(I|l)\" – начинается с I или с L\n",
    "\n",
    "\"\\s\" – пробел\n",
    "\n",
    "\"\\s(.+?)\\s\" – заставляет запомнить (нечто между пробелами). Нежадное решение\n",
    "\n",
    "[^абв] – отрицание (все, кроме этих символов)\n",
    "\n",
    "\\d - любое число"
   ],
   "metadata": {
    "collapsed": false
   }
  },
  {
   "cell_type": "code",
   "execution_count": null,
   "outputs": [],
   "source": [
    "\"стил.метрия\"\n",
    "\"стил[ео]метрия\" #конкретные символы, а не любой символ\n",
    "\"стил(е|о)метрия\" #четко обозначили, что именно здесь – или е, или о\n",
    "\"Ли(с|сс)абон\" = \"Лисс?абон\" #может быть вторая \"с\" перед \"а\", может не быть"
   ],
   "metadata": {
    "collapsed": false,
    "pycharm": {
     "name": "#%%\n"
    }
   }
  },
  {
   "cell_type": "markdown",
   "source": [
    "## Специальный модуль re\n",
    "\n",
    "### 1. search\n",
    "\n",
    "regexp = \"^(I|l)\"\n",
    "re.search(regexp, line) – регулярное выражение, строка\n",
    "Встроим ее внутрь условия"
   ],
   "metadata": {
    "collapsed": false
   }
  },
  {
   "cell_type": "code",
   "execution_count": null,
   "outputs": [],
   "source": [
    "if re.search(r, line):\n",
    "    "
   ],
   "metadata": {
    "collapsed": false,
    "pycharm": {
     "name": "#%%\n"
    }
   }
  },
  {
   "cell_type": "markdown",
   "source": [
    "Результат можно встроить в переменную\n",
    "r = re.search(regexp, line)\n"
   ],
   "metadata": {
    "collapsed": false
   }
  },
  {
   "cell_type": "code",
   "execution_count": null,
   "outputs": [],
   "source": [
    "r = re.search(regexp, line)\n",
    "if r:\n",
    "    item = r.group()"
   ],
   "metadata": {
    "collapsed": false,
    "pycharm": {
     "name": "#%%\n"
    }
   }
  },
  {
   "cell_type": "code",
   "execution_count": null,
   "outputs": [],
   "source": [
    "regexp = \"^(.+?)(.+?)\"\n",
    "r = re.search(regexp, line)\n",
    "if r:\n",
    "    word1 = r.group(1) #то, что соответствует 1 скобкам\n",
    "    word2 = r.group(2) #то, что соответствует 2 скобкам\n",
    "    \n",
    "#нумерация с 1, т.к. регулярки древнее питона\n",
    "#сколько будет скобочек в регулярке, столько раз сработает\n",
    "#находит только первое вхождение\n"
   ],
   "metadata": {
    "collapsed": false,
    "pycharm": {
     "name": "#%%\n"
    }
   }
  },
  {
   "cell_type": "markdown",
   "source": [
    "### 2. findall"
   ],
   "metadata": {
    "collapsed": false
   }
  },
  {
   "cell_type": "code",
   "execution_count": null,
   "outputs": [],
   "source": [
    "res = re.findall(regexp, line)\n",
    "#выдает список\n",
    "res = []\n",
    "\n",
    "\"(а|о).?(б|п)\"\n",
    "# Выдаст список с кортежами внутри (а, о), (о, б)"
   ],
   "metadata": {
    "collapsed": false,
    "pycharm": {
     "name": "#%%\n"
    }
   }
  },
  {
   "cell_type": "markdown",
   "source": [
    "## 3 sub\n",
    "\n",
    "line = re.sub (regexp, \"a\", line)\n",
    "\n"
   ],
   "metadata": {
    "collapsed": false,
    "pycharm": {
     "name": "#%% md\n"
    }
   }
  },
  {
   "cell_type": "code",
   "execution_count": null,
   "outputs": [],
   "source": [
    "\n"
   ],
   "metadata": {
    "collapsed": false,
    "pycharm": {
     "name": "#%%\n"
    }
   }
  }
 ],
 "metadata": {
  "language_info": {
   "codemirror_mode": {
    "name": "ipython",
    "version": 2
   },
   "file_extension": ".py",
   "mimetype": "text/x-python",
   "name": "python",
   "nbconvert_exporter": "python",
   "pygments_lexer": "ipython2",
   "version": "2.7.6"
  },
  "kernelspec": {
   "name": "python3",
   "language": "python",
   "display_name": "Python 3"
  },
  "pycharm": {
   "stem_cell": {
    "cell_type": "raw",
    "source": [],
    "metadata": {
     "collapsed": false
    }
   }
  }
 },
 "nbformat": 4,
 "nbformat_minor": 0
}