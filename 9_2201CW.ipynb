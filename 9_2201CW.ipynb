{
 "cells": [
  {
   "cell_type": "markdown",
   "metadata": {
    "collapsed": true,
    "pycharm": {
     "name": "#%% md\n"
    }
   },
   "source": [
    "# Представление о векторах\n",
    "\n",
    "Если есть двумерное пространство, есть оси X и Y.\n",
    "\n",
    "Прямую можно провести через 2 точки, поэтому нам нужны 2 точки, чтобы провести через них вектор.\n",
    "\n",
    "Вектора для слов находятся в пространстве в большем количестве измерений (трех-, четырехмерное и тд)\n",
    "\n",
    "Вектор – это ряд чисел, каждое число – это координата. Есть какое-то число, которое задает положение вектора в пространстве.\n",
    "\n",
    "Вектор1     5  6  7  1\n",
    "Вектор2     3  4  5  6 (Пример вектора в четырехмерном пространстве)\n",
    "\n",
    "Математика может найти расстояние между векторами и узнать, насколько они близки.\n",
    "\n",
    "Мы можем сравнивать только вектора, которые существует в одном пространстве (нельзя брать вектор из \n",
    "трехмерного и сравнивать с вектором из четырехмерного)\n",
    "\n",
    "Векторизовать можно слова, тексты, корпуса (на самом деле что угодно). \n",
    "\n",
    "Для текста можно сделать так, что каждое слово станет измерением (пример)\n",
    "\n",
    "            и  в  по над\n",
    "Вектор1     5  6  7  1\n",
    "Вектор2     3  4  5  6\n",
    "\n",
    "Так, мы можем понять, насколько похожи эти вещи (устраиваем, например, из каждого слова их вектор\n",
    "в зависимости от контекста)\n",
    "\n",
    "Сколько раз 1 слово встречается с другими словами в тексте:\n",
    "\n",
    "           Слово_n1 Слово_n2 Слово_n3  Слово_n4\n",
    "Слово1     5        6        7         1\n",
    "Слово2     3        4        5         6\n",
    "\n",
    "В реальности в такой матрице будут почти все числа 0 и некоторое количество 1.\n",
    "Есть алгоритмы, которые приводят такие матрицы к результату, как выше.\n",
    "\n",
    "Алгоритм превращения слова в вектор – word2vec. Самый удобный пакет для этого – gensim"
   ]
  },
  {
   "cell_type": "code",
   "execution_count": 17,
   "outputs": [],
   "source": [
    "import gensim\n",
    "import logging #он умеет сохранять и показывать разные штуки во время обучения модели\n",
    "\n",
    "logging.basicConfig(format='%asctimes : %levelnames : %messages', logging=logging.INFO)\n",
    "#рассказывает питону, что именно показывать на экране, когда модель обучается\n",
    "#в интернете нет двоеточий в похожем коде"
   ],
   "metadata": {
    "collapsed": false,
    "pycharm": {
     "name": "#%%\n",
     "is_executing": false
    }
   }
  },
  {
   "cell_type": "markdown",
   "source": [
    "Каждое предложение во входном файле должно быть на отдельной строке.\n",
    "\n",
    "Что можно сделать полезного: выкинуть служебные части речи, предварительно лемматизировать (если это мешает нашей задаче)\n",
    "\n",
    "Кстати, gensim читает все сам сразу, потому что, если данные очень большие, то память компьютера забьется."
   ],
   "metadata": {
    "collapsed": false,
    "pycharm": {
     "name": "#%% md\n"
    }
   }
  },
  {
   "cell_type": "code",
   "execution_count": 18,
   "outputs": [],
   "source": [
    "f = \"war_and_peace.txt\"\n",
    "data = gensim.models.word2vec.LineSentence(f) #делает отдельное предложение на отдельной строке\n",
    "model = gensim.models.Word2Vec(data, size=300, window=10, min_count=2, sg=0)\n",
    "\n",
    "#size – размер вектора, даже размер 300 или 500 может быть хорошо информативным\n",
    "#min_count – в нашу модель попадутся слова, которые имеют такую минимальную частотность\n",
    "#sg=0 – skipgram"
   ],
   "metadata": {
    "collapsed": false,
    "pycharm": {
     "name": "#%%\n",
     "is_executing": false
    }
   }
  },
  {
   "cell_type": "markdown",
   "source": [
    "Мы обучили модель, дальше сохраним ее в виде файла"
   ],
   "metadata": {
    "collapsed": false,
    "pycharm": {
     "name": "#%% md\n"
    }
   }
  },
  {
   "cell_type": "code",
   "execution_count": 6,
   "outputs": [],
   "source": [
    "model.init_sims(replace=True)\n",
    "model.save(\"my_model.model\")"
   ],
   "metadata": {
    "collapsed": false,
    "pycharm": {
     "name": "#%%\n",
     "is_executing": false
    }
   }
  },
  {
   "cell_type": "code",
   "source": [
    "print(len(model.wv.vocab))\n",
    "#узнать сколько слов"
   ],
   "metadata": {
    "collapsed": false,
    "pycharm": {
     "name": "#%%\n",
     "is_executing": false
    }
   },
   "execution_count": 7,
   "outputs": [
    {
     "name": "stdout",
     "text": [
      "31345\n"
     ],
     "output_type": "stream"
    }
   ]
  },
  {
   "cell_type": "code",
   "execution_count": 15,
   "outputs": [
    {
     "name": "stdout",
     "text": [
      "('него.', 0.9981270432472229)\n",
      "('бежать', 0.9980776309967041)\n",
      "('один', 0.9979787468910217)\n",
      "('Наполеон', 0.9979562163352966)\n",
      "('поразило', 0.997809886932373)\n",
      "('ней,', 0.9977809190750122)\n",
      "('покраснела', 0.9977301955223083)\n",
      "('за', 0.997718095779419)\n",
      "('ней', 0.9976932406425476)\n",
      "('мужа,', 0.9976681470870972)\n"
     ],
     "output_type": "stream"
    },
    {
     "name": "stderr",
     "text": [
      "/Library/Frameworks/Python.framework/Versions/3.7/lib/python3.7/site-packages/ipykernel_launcher.py:2: DeprecationWarning: Call to deprecated `__contains__` (Method will be removed in 4.0.0, use self.wv.__contains__() instead).\n",
      "  \n"
     ],
     "output_type": "stream"
    }
   ],
   "source": [
    "word = \"женщина\"\n",
    "if word in model:\n",
    "    for element in model.wv.most_similar(positive=[word], topn=10):\n",
    "        print(element)\n",
    "#сначала показывается слово, а потом – косинусное значение"
   ],
   "metadata": {
    "collapsed": false,
    "pycharm": {
     "name": "#%%\n",
     "is_executing": false
    }
   }
  },
  {
   "cell_type": "code",
   "source": [
    "print(model.wv.doesnt_match(\"россия знает\".split()))\n",
    "\n",
    "#вот это работает норм\n",
    "print(model.wv.doesnt_match(\"россия\"))\n"
   ],
   "metadata": {
    "collapsed": false,
    "pycharm": {
     "name": "#%%\n",
     "is_executing": false
    }
   },
   "execution_count": 9,
   "outputs": [
    {
     "name": "stderr",
     "text": [
      "2020-01-22 20:53:04,079 : WARNING : vectors for words {'россия'} are not present in the model, ignoring these words\n",
      "/Library/Frameworks/Python.framework/Versions/3.7/lib/python3.7/site-packages/gensim/models/keyedvectors.py:877: FutureWarning: arrays to stack must be passed as a \"sequence\" type such as list or tuple. Support for non-sequence iterables such as generators is deprecated as of NumPy 1.16 and will raise an error in the future.\n",
      "  vectors = vstack(self.word_vec(word, use_norm=True) for word in used_words).astype(REAL)\n",
      "2020-01-22 20:53:04,094 : WARNING : vectors for words {'р'} are not present in the model, ignoring these words\n"
     ],
     "output_type": "stream"
    },
    {
     "name": "stdout",
     "text": [
      "знает\n",
      "я\n"
     ],
     "output_type": "stream"
    }
   ]
  },
  {
   "cell_type": "code",
   "execution_count": 16,
   "outputs": [
    {
     "name": "stdout",
     "text": [
      "('Война', 0.9989137649536133)\n",
      "('является', 0.9988164901733398)\n",
      "('zu', 0.998771607875824)\n",
      "('Французский', 0.9987686276435852)\n",
      "('левым', 0.9987384080886841)\n",
      "('землю.', 0.9987369179725647)\n",
      "('огромном', 0.9987170696258545)\n",
      "('октября', 0.998698890209198)\n",
      "('прекрасные', 0.998680591583252)\n",
      "('клуба', 0.9986500144004822)\n"
     ],
     "output_type": "stream"
    },
    {
     "name": "stderr",
     "text": [
      "/Library/Frameworks/Python.framework/Versions/3.7/lib/python3.7/site-packages/ipykernel_launcher.py:2: DeprecationWarning: Call to deprecated `__contains__` (Method will be removed in 4.0.0, use self.wv.__contains__() instead).\n",
      "  \n"
     ],
     "output_type": "stream"
    }
   ],
   "source": [
    "word = \"мужчины\"\n",
    "if word in model:\n",
    "    for element in model.wv.most_similar(positive=[\"император\", \"мундир\"], negative=[\"Наполеон\"]):\n",
    "        print(element)\n"
   ],
   "metadata": {
    "collapsed": false,
    "pycharm": {
     "name": "#%%\n",
     "is_executing": false
    }
   }
  },
  {
   "cell_type": "markdown",
   "source": [
    "Берем дампы с Вики: dumps.wikimedia.org/backup-index.html\n",
    "\n",
    "wiki-dump-parser #нужен pip install\n",
    "\n",
    "Задание на сегодня:\n",
    "\n",
    "1) Взять 2 корпуса текстов на одном языке (можно взять наши газеты)\n",
    "2) Обработать вики парсером, разбить текст на предложения\n",
    "3) На каждом построить модель\n",
    "4) Сравнить составы квазисинонимов для нескольких слов (похожие или разные)"
   ],
   "metadata": {
    "collapsed": false,
    "pycharm": {
     "name": "#%% md\n"
    }
   }
  },
  {
   "cell_type": "code",
   "execution_count": 11,
   "outputs": [
    {
     "traceback": [
      "\u001b[0;31m---------------------------------------------------------------------------\u001b[0m",
      "\u001b[0;31mFileNotFoundError\u001b[0m                         Traceback (most recent call last)",
      "\u001b[0;32m<ipython-input-11-22d933c78c14>\u001b[0m in \u001b[0;36m<module>\u001b[0;34m\u001b[0m\n\u001b[1;32m      1\u001b[0m \u001b[0;32mimport\u001b[0m \u001b[0mwiki_dump_parser\u001b[0m \u001b[0;32mas\u001b[0m \u001b[0mparser\u001b[0m\u001b[0;34m\u001b[0m\u001b[0;34m\u001b[0m\u001b[0m\n\u001b[0;32m----> 2\u001b[0;31m \u001b[0mparser\u001b[0m\u001b[0;34m.\u001b[0m\u001b[0mxml_to_csv\u001b[0m\u001b[0;34m(\u001b[0m\u001b[0;34m'dump.xml'\u001b[0m\u001b[0;34m)\u001b[0m\u001b[0;34m\u001b[0m\u001b[0;34m\u001b[0m\u001b[0m\n\u001b[0m\u001b[1;32m      3\u001b[0m \u001b[0;34m\u001b[0m\u001b[0m\n\u001b[1;32m      4\u001b[0m \u001b[0mdf\u001b[0m \u001b[0;34m=\u001b[0m \u001b[0mpd\u001b[0m\u001b[0;34m.\u001b[0m\u001b[0mread_csv\u001b[0m\u001b[0;34m(\u001b[0m\u001b[0;34m'dump.csv'\u001b[0m\u001b[0;34m,\u001b[0m \u001b[0mquotechar\u001b[0m\u001b[0;34m=\u001b[0m\u001b[0;34m'|'\u001b[0m\u001b[0;34m,\u001b[0m \u001b[0mindex_col\u001b[0m \u001b[0;34m=\u001b[0m \u001b[0;32mFalse\u001b[0m\u001b[0;34m)\u001b[0m\u001b[0;34m\u001b[0m\u001b[0;34m\u001b[0m\u001b[0m\n\u001b[1;32m      5\u001b[0m \u001b[0mdf\u001b[0m\u001b[0;34m[\u001b[0m\u001b[0;34m'timestamp'\u001b[0m\u001b[0;34m]\u001b[0m \u001b[0;34m=\u001b[0m \u001b[0mpd\u001b[0m\u001b[0;34m.\u001b[0m\u001b[0mto_datetime\u001b[0m\u001b[0;34m(\u001b[0m\u001b[0mdf\u001b[0m\u001b[0;34m[\u001b[0m\u001b[0;34m'timestamp'\u001b[0m\u001b[0;34m]\u001b[0m\u001b[0;34m,\u001b[0m\u001b[0mformat\u001b[0m\u001b[0;34m=\u001b[0m\u001b[0;34m'%Y-%m-%dT%H:%M:%SZ'\u001b[0m\u001b[0;34m)\u001b[0m\u001b[0;34m\u001b[0m\u001b[0;34m\u001b[0m\u001b[0m\n",
      "\u001b[0;32m/Library/Frameworks/Python.framework/Versions/3.7/lib/python3.7/site-packages/wiki_dump_parser.py\u001b[0m in \u001b[0;36mxml_to_csv\u001b[0;34m(filename)\u001b[0m\n\u001b[1;32m    130\u001b[0m   \u001b[0;31m# Initializing xml parser\u001b[0m\u001b[0;34m\u001b[0m\u001b[0;34m\u001b[0m\u001b[0;34m\u001b[0m\u001b[0m\n\u001b[1;32m    131\u001b[0m   \u001b[0mparser\u001b[0m \u001b[0;34m=\u001b[0m \u001b[0mxml\u001b[0m\u001b[0;34m.\u001b[0m\u001b[0mparsers\u001b[0m\u001b[0;34m.\u001b[0m\u001b[0mexpat\u001b[0m\u001b[0;34m.\u001b[0m\u001b[0mParserCreate\u001b[0m\u001b[0;34m(\u001b[0m\u001b[0;34m)\u001b[0m\u001b[0;34m\u001b[0m\u001b[0;34m\u001b[0m\u001b[0m\n\u001b[0;32m--> 132\u001b[0;31m   \u001b[0minput_file\u001b[0m \u001b[0;34m=\u001b[0m \u001b[0mopen\u001b[0m\u001b[0;34m(\u001b[0m\u001b[0mfilename\u001b[0m\u001b[0;34m,\u001b[0m \u001b[0;34m'rb'\u001b[0m\u001b[0;34m)\u001b[0m\u001b[0;34m\u001b[0m\u001b[0;34m\u001b[0m\u001b[0m\n\u001b[0m\u001b[1;32m    133\u001b[0m \u001b[0;34m\u001b[0m\u001b[0m\n\u001b[1;32m    134\u001b[0m   \u001b[0mparser\u001b[0m\u001b[0;34m.\u001b[0m\u001b[0mStartElementHandler\u001b[0m \u001b[0;34m=\u001b[0m \u001b[0mstart_tag\u001b[0m\u001b[0;34m\u001b[0m\u001b[0;34m\u001b[0m\u001b[0m\n",
      "\u001b[0;31mFileNotFoundError\u001b[0m: [Errno 2] No such file or directory: 'dump.xml'"
     ],
     "ename": "FileNotFoundError",
     "evalue": "[Errno 2] No such file or directory: 'dump.xml'",
     "output_type": "error"
    }
   ],
   "source": [
    "import wiki_dump_parser as parser\n",
    "parser.xml_to_csv('dump.xml')\n",
    "\n",
    "df = pd.read_csv('dump.csv', quotechar='|', index_col = False)\n",
    "df['timestamp'] = pd.to_datetime(df['timestamp'],format='%Y-%m-%dT%H:%M:%SZ')"
   ],
   "metadata": {
    "collapsed": false,
    "pycharm": {
     "name": "#%%\n",
     "is_executing": false
    }
   }
  },
  {
   "cell_type": "markdown",
   "source": [],
   "metadata": {
    "collapsed": false,
    "pycharm": {
     "name": "#%% md"
    }
   }
  }
 ],
 "metadata": {
  "kernelspec": {
   "display_name": "Python 3",
   "language": "python",
   "name": "python3"
  },
  "language_info": {
   "codemirror_mode": {
    "name": "ipython",
    "version": 2
   },
   "file_extension": ".py",
   "mimetype": "text/x-python",
   "name": "python",
   "nbconvert_exporter": "python",
   "pygments_lexer": "ipython2",
   "version": "2.7.6"
  },
  "pycharm": {
   "stem_cell": {
    "cell_type": "raw",
    "source": [],
    "metadata": {
     "collapsed": false
    }
   }
  }
 },
 "nbformat": 4,
 "nbformat_minor": 0
}