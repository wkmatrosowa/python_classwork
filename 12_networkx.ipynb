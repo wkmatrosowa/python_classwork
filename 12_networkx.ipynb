{
 "cells": [
  {
   "cell_type": "markdown",
   "metadata": {
    "collapsed": true,
    "pycharm": {
     "name": "#%% md\n"
    }
   },
   "source": [
    "## Графы. Networkx\n",
    "\n",
    "Последовательности натурального ряда"
   ]
  },
  {
   "cell_type": "code",
   "execution_count": null,
   "outputs": [],
   "source": [
    "month = []\n",
    "for x in range(1, 13):\n",
    "    month.append(x)"
   ],
   "metadata": {
    "collapsed": false,
    "pycharm": {
     "name": "#%%\n"
    }
   }
  },
  {
   "cell_type": "code",
   "execution_count": 1,
   "outputs": [
    {
     "data": {
      "text/plain": "[1, 2, 3, 4, 5, 6, 7, 8, 9, 10, 11, 12]"
     },
     "metadata": {},
     "output_type": "execute_result",
     "execution_count": 1
    }
   ],
   "source": [
    "month = [x for x in range(1, 13)]\n",
    "month"
   ],
   "metadata": {
    "collapsed": false,
    "pycharm": {
     "name": "#%% \n",
     "is_executing": false
    }
   }
  },
  {
   "cell_type": "markdown",
   "source": [
    "Синтаксический сахар – когда вместо длинного кода делаем короткий и простой (пример выше\n",
    "для месяцев)"
   ],
   "metadata": {
    "collapsed": false
   }
  },
  {
   "cell_type": "markdown",
   "source": [
    "Вспоминаем про существование прекрасных функций chr() и ord() (выдают соотвествия букв цифровому\n",
    "коду\n"
   ],
   "metadata": {
    "collapsed": false
   }
  },
  {
   "cell_type": "code",
   "source": [
    "cyr = [chr(x) for x in range(1072, 1104)]"
   ],
   "metadata": {
    "collapsed": false,
    "pycharm": {
     "name": "#%%\n"
    }
   },
   "execution_count": null,
   "outputs": []
  },
  {
   "cell_type": "markdown",
   "source": [
    "### Networkx\n",
    "\n",
    "Граф – структура данных, у которой есть сущности узлы. Между некоторыми узлами есть связь – \n",
    "рёбра. Абстрактная штука, в виде графов можно представить всё, что угодно в мире"
   ],
   "metadata": {
    "collapsed": false
   }
  },
  {
   "cell_type": "code",
   "source": [
    "import networkx as nx"
   ],
   "metadata": {
    "collapsed": false,
    "pycharm": {
     "name": "#%%\n",
     "is_executing": false
    }
   },
   "execution_count": 5,
   "outputs": [
    {
     "name": "stderr",
     "text": [
      "/Library/Frameworks/Python.framework/Versions/3.7/lib/python3.7/importlib/_bootstrap.py:219: RuntimeWarning: numpy.ufunc size changed, may indicate binary incompatibility. Expected 192 from C header, got 216 from PyObject\n",
      "  return f(*args, **kwds)\n",
      "/Library/Frameworks/Python.framework/Versions/3.7/lib/python3.7/importlib/_bootstrap.py:219: RuntimeWarning: numpy.ufunc size changed, may indicate binary incompatibility. Expected 192 from C header, got 216 from PyObject\n",
      "  return f(*args, **kwds)\n"
     ],
     "output_type": "stream"
    }
   ]
  },
  {
   "cell_type": "code",
   "source": [
    "#специальный модуль stop_words\n",
    "from stop_words import get_stop_words\n",
    "stop_words_list = get_stop_words('ru')\n",
    "for word in ['свой', 'ль', 'б']:\n",
    "    stop_words_list.append(word)"
   ],
   "metadata": {
    "collapsed": false,
    "pycharm": {
     "name": "#%%\n"
    }
   },
   "execution_count": null,
   "outputs": []
  },
  {
   "cell_type": "code",
   "execution_count": 6,
   "outputs": [],
   "source": [
    "G = nx.Graph() #создаем пустой граф\n",
    "G.add_node(1, label=\"node_1\") #добавляем один узел\n",
    "G.add_nodes_from([x for x in range(2, 9)]) #добавляем несколько узлов сразу\n",
    "\n",
    "G.remove_node(2) #удаляем один узел"
   ],
   "metadata": {
    "collapsed": false,
    "pycharm": {
     "name": "#%%\n",
     "is_executing": false
    }
   }
  },
  {
   "cell_type": "code",
   "execution_count": 7,
   "outputs": [
    {
     "name": "stdout",
     "text": [
      "[1, 3, 4, 5, 6, 7, 8]\n"
     ],
     "output_type": "stream"
    }
   ],
   "source": [
    "print(G.nodes())"
   ],
   "metadata": {
    "collapsed": false,
    "pycharm": {
     "name": "#%%\n",
     "is_executing": false
    }
   }
  },
  {
   "cell_type": "code",
   "source": [
    "G.add_edge(1,3) #ребро между 1 и 3\n",
    "G.edges()"
   ],
   "metadata": {
    "collapsed": false,
    "pycharm": {
     "name": "#%%\n",
     "is_executing": false
    }
   },
   "execution_count": 9,
   "outputs": [
    {
     "data": {
      "text/plain": "EdgeView([(1, 3)])"
     },
     "metadata": {},
     "output_type": "execute_result",
     "execution_count": 9
    }
   ]
  },
  {
   "cell_type": "code",
   "execution_count": 12,
   "outputs": [
    {
     "name": "stdout",
     "text": [
      "3\n"
     ],
     "output_type": "stream"
    }
   ],
   "source": [
    "#Какие есть соседи у узла 1?\n",
    "for v in G.neighbors(1):\n",
    "    print(v)"
   ],
   "metadata": {
    "collapsed": false,
    "pycharm": {
     "name": "#%%\n",
     "is_executing": false
    }
   }
  },
  {
   "cell_type": "code",
   "execution_count": null,
   "outputs": [],
   "source": [
    "G.degree() #степень узла\n",
    "#задать вес ребра\n",
    "\n",
    "G.add_edge(1, 3, weight=4)\n",
    "#взвешенный граф – такой, в котором у узлов есть вес"
   ],
   "metadata": {
    "collapsed": false,
    "pycharm": {
     "name": "#%%\n"
    }
   }
  },
  {
   "cell_type": "code",
   "execution_count": null,
   "outputs": [],
   "source": [
    "#граф можно экспортировать\n",
    "nx.write_gexf(G, 'graph_file.gexf')"
   ],
   "metadata": {
    "collapsed": false,
    "pycharm": {
     "name": "#%%\n"
    }
   }
  },
  {
   "cell_type": "code",
   "execution_count": null,
   "outputs": [],
   "source": [
    "#надо выбрать способ укладки графа\n",
    "\n",
    "import matplotlib.pyplot as plt\n",
    "\n",
    "pos=nx.spring_layout(G)\n",
    "\n",
    "\n",
    "\n",
    "\n"
   ],
   "metadata": {
    "collapsed": false,
    "pycharm": {
     "name": "#%%\n"
    }
   }
  },
  {
   "cell_type": "code",
   "execution_count": 13,
   "outputs": [],
   "source": [
    "nodes_5 = [5]\n",
    "for v in G.neighbors(5):\n",
    "    print(v)\n",
    "    nodes_5.append(v)"
   ],
   "metadata": {
    "collapsed": false,
    "pycharm": {
     "name": "#%%\n",
     "is_executing": false
    }
   }
  },
  {
   "cell_type": "code",
   "execution_count": null,
   "outputs": [],
   "source": [
    "#хотим кусочек графа – подграф\n",
    "sub_g = nx.subgraph(G, nodes_5)"
   ],
   "metadata": {
    "collapsed": false,
    "pycharm": {
     "name": "#%%\n"
    }
   }
  },
  {
   "cell_type": "markdown",
   "source": [
    "Ассортативность – такое свойство графов. У графа есть хабы – узлы, на которых завязаны кучи других узлов\n",
    "\n",
    "Вычисление центральности (=важности) узлов\n",
    "\n",
    "Коэффициент кластеризации\n",
    "\n",
    "Задание на пару:\n",
    "\n",
    "1. взять любой текст.\n",
    "2. построить на нем граф, где узлами являются слова (лемматизированные!), а ребрами -- совместная встречаемость в окне 3 (без стоп-слов).\n",
    "3. визуализировать этот граф\n",
    "4. посчитать центральность и вывести 5 наиболее центральных слов"
   ],
   "metadata": {
    "collapsed": false,
    "pycharm": {
     "name": "#%% md\n"
    }
   }
  },
  {
   "cell_type": "code",
   "execution_count": null,
   "outputs": [],
   "source": [
    "import networkx as nx\n",
    "from pymystem3 import Mystem\n",
    "import matplotlib.pyplot as plt\n",
    "from string import punctuation\n",
    "punctuation += \"«»—…“”\"\n",
    "punct = set(punctuation)\n",
    "mystem = Mystem()\n",
    "\n",
    "text = '''\n",
    "Обстоятельство – второстепенный член предложения, который обозначает признак действия или другого признака. Обстоятельства поясняют сказуемые или другие члены предложения. При синтаксическом разборе предложения обстоятельства подчеркиваются пунктирной линией (тире, точка, тире). Обстоятельства необходимо выделять запятыми в трех случаях. Рассмотрим каждый из них по очереди.\n",
    "Первый случай\n",
    "Обстоятельства в предложениях могут быть выражены четырьмя частями речи: \n",
    "наречием, например: Дворник встает рано;\n",
    "деепричастием или деепричастным оборотом, например: Мужики, увидев помещика, сняли шапки;\n",
    "инфинитивом, например: Все отправились на улицу (зачем?) расчищать снег; \n",
    "существительным, например: Я приехал в столицу (зачем?) на экскурсию.\n",
    "Кроме этого, обстоятельство может быть выражено цельным по смыслу выражением, например: Дождь шел две недели подряд.\n",
    "Необходимо запомнить, что выделять запятыми нужно обстоятельства, которые выражены деепричастием или деепричастным оборотом. Сравните: Он сидел, листая журнал, и скучал и Он сидел на скамейке. В первом предложении обстоятельство листая журнал выделяется, так как оно выражено деепричастным оборотом, а во втором обстоятельство на скамейке не обособляется, так как оно выражено существительным с предлогом.\n",
    "Второй и третий случаи\n",
    "По значению обстоятельства делятся на следующие основные группы: \n",
    "обстоятельства места, отвечающие на вопросы ГДЕ? КУДА? ОТКУДА? Например: Мы въехали (куда?) в город; \n",
    "обстоятельства времени, отвечающие на вопросы КОГДА? С КАКИХ ПОР? ДО КАКИХ ПОР? КАК ДОЛГО? Например: Мы прождали их около двух часов;\n",
    "обстоятельства причины, которые отвечают на вопросы ПОЧЕМУ? ОТЧЕГО? ПО КАКОЙ ПРИЧИНЕ? Например: От усталости я не мог говорить; \n",
    "обстоятельства цели, которые отвечают на вопросы ЗАЧЕМ? ДЛЯ ЧЕГО? С КАКОЙ ЦЕЛЬЮ? Например: В санатории все приготовлено для лечения отдыхающих;\n",
    "обстоятельства образа действия и степени, отвечающие на вопросы КАК? КАКИМ ОБРАЗОМ? В КАКОЙ СТЕПЕНИ? Например: Я несколько призадумался или Отец ни на шаг не отпускал меня;\n",
    "обстоятельства условия, которые отвечают на вопрос ПРИ КАКОМ УСЛОВИИ? Например: При старании можно добиться успеха; \n",
    "обстоятельства уступки, которые отвечают на вопрос НЕСМОТРЯ НА ЧТО? Например: На улице, несмотря на мороз, было многолюдно; \n",
    "обстоятельства сравнения, отвечающие на вопрос КАК? Например: Голова у нее острижена, как у мальчишки.\n",
    "В классификации обстоятельств по значению одним из восьми видов являются обстоятельства сравнения: они отвечают на вопрос КАК? и начинается с союзов КАК, СЛОВНО или БУДТО. Например: У нее были длинные волосы, мягкие, как лен. В некоторых учебниках и справочных пособиях обстоятельства сравнения называют также сравнительными оборотами. Необходимо запомнить, что обстоятельства сравнения в предложениях выделяются запятыми.\n",
    "Еще один вид обстоятельств, который необходимо выделять запятыми, это обстоятельства уступки. Такие обстоятельства отвечают на вопрос НЕСМОТРЯ НА ЧТО? и начинаются с предлога НЕСМОТРЯ НА (или, реже, ВОПРЕКИ). Например: На улицах, несмотря на яркое солнце, горели фонари.\n",
    "Итак, следует запомнить три случая, когда обстоятельства необходимо выделять запятыми: \n",
    "если они выражены деепричастным оборотом, \n",
    "если они представляют собой сравнительный оборот, \n",
    "если они начинаются с предлога НЕСМОТРЯ НА.\n",
    "Еще раз рассмотрите примеры. Сверкая быстро в вышине, кружились искры. (Лермонтов) Она вдруг скрылась, как птичка, вспугнутая из кустарника (Лермонтов). Несмотря на непредвиденные трудности, работа закончена в срок.\n",
    "Это правило имеет несколько важных примечаний: \n",
    "От деепричастий следует отличать наречия СТОЯ, СИДЯ, ЛЕЖА, МОЛЧА. НЕХОТЯ, ШУТЯ, НЕ ГЛЯДЯ, ИГРАЯ. Они образовались благодаря переходу слов из разряда деепричастий в наречия. Обстоятельства, выраженные такими словами, не обособляются. Например: Он стоял молча. \n",
    "Не выделяются также обстоятельства, выраженные фразеологическими оборотами, например: Они работали засучив рукава или Верчусь целый день как белка в колесе. \n",
    "Кроме обстоятельств уступки, которые выделяются всегда, могут факультативно обособляться обстоятельства, выраженные существительными с производными предлогами БЛАГОДАРЯ, СОГЛАСНО, ВОПРЕКИ, ВВИДУ, ВСЛЕДСТВИЕ, например: Благодаря хорошей погоде, мы купались в реке все лето. Обычно такие обстоятельства обособляются, если они распространены и стоят перед сказуемым.\n",
    "'''\n",
    "\n",
    "def normalize(text):\n",
    "    normalized_text = [(word.strip(punctuation)) for word \\\n",
    "                       in text.lower().split()]\n",
    "    normalized_text = [word for word in normalized_text if word]\n",
    "    return normalized_text\n",
    "\n",
    "def lemmatize(text):\n",
    "    lemmes = []\n",
    "    for word in text:\n",
    "        analyzed_word = mystem.analyze(word)\n",
    "        for x in analyzed_word:\n",
    "            if 'analysis' in x and len(x['analysis']) > 0:\n",
    "                lemmes.append(x['analysis'][0]['lex'])\n",
    "    return lemmes\n",
    "\n",
    "norm_text = normalize(text)\n",
    "lemmes_list = lemmatize(norm_text)\n",
    "\n",
    "G = nx.Graph()\n",
    "G.add_nodes_from(lemmes_list)\n",
    "\n",
    "pos = nx.spring_layout(sub_g)\n",
    "\n",
    "nx.draw_networkx_nodes(sub_g, pos, node_color='red', node_size=50) # рисуем узлы красным цветом, задаём размер узла\n",
    "nx.draw_networkx_edges(sub_g, pos, edge_color='yellow') # рисуем рёбра жёлтым\n",
    "plt.axis('off') # по умолчанию график будет снабжён осями с координатами, здесь они бессмысленны, так что отключаем\n",
    "plt.show()\n",
    "\n"
   ],
   "metadata": {
    "collapsed": false,
    "pycharm": {
     "name": "#%%\n"
    }
   }
  },
  {
   "cell_type": "code",
   "execution_count": null,
   "outputs": [],
   "source": [
    "from stop_words import get_stop_words\n",
    "stop_words_list = get_stop_words('ru')\n",
    "for word in ['свой', 'ль']:\n",
    "    stop_words_list.append(word)\n"
   ],
   "metadata": {
    "collapsed": false,
    "pycharm": {
     "name": "#%%\n"
    }
   }
  },
  {
   "cell_type": "code",
   "execution_count": null,
   "outputs": [],
   "source": [
    "G = nx.Graph() # пустой граф\n",
    "G.add_node(1) # добавляем один узел\n",
    "G.add_nodes_from([11, 142, 67, 2 ,3, 4, 5, 6]) # добавляем несколько узлов сразу\n",
    "\n",
    "G.remove_node(2) # впрочем, один узел лишний, его, пожалуй, удалим\n",
    "\n",
    "# То, как мы обозначаем узлы (1, 2, 3 ...) -- это их id. Но вообще-то мы можем приклеить к ним и человекопонятные ярлыки:\n",
    "G.add_node(1, label=\"Слово лук\")\n"
   ],
   "metadata": {
    "collapsed": false,
    "pycharm": {
     "name": "#%%\n"
    }
   }
  },
  {
   "cell_type": "code",
   "execution_count": null,
   "outputs": [],
   "source": [
    "\n",
    "G.add_edge(1,3) # ребро между узлами 1 и 3\n",
    "G.add_edges_from([(1, 4), (1, 5), (3, 5), (4, 5), (1, 6), (1, 7)]) # сразу несколько рёбер\n",
    "\n",
    "G.remove_edge(1, 5) # хотя одно ребро лишнее..."
   ],
   "metadata": {
    "collapsed": false,
    "pycharm": {
     "name": "#%%\n"
    }
   }
  },
  {
   "cell_type": "code",
   "execution_count": null,
   "outputs": [],
   "source": [
    "\n",
    "print(G.nodes())\n"
   ],
   "metadata": {
    "collapsed": false,
    "pycharm": {
     "name": "#%%\n"
    }
   }
  },
  {
   "cell_type": "code",
   "execution_count": null,
   "outputs": [],
   "source": [
    "\n",
    "G.edges()\n"
   ],
   "metadata": {
    "collapsed": false,
    "pycharm": {
     "name": "#%%\n"
    }
   }
  },
  {
   "cell_type": "code",
   "execution_count": null,
   "outputs": [],
   "source": [
    "\n",
    "print('узлы', G.nodes())\n",
    "print('рёбра', G.edges())\n"
   ],
   "metadata": {
    "collapsed": false,
    "pycharm": {
     "name": "#%%\n"
    }
   }
  },
  {
   "cell_type": "code",
   "execution_count": null,
   "outputs": [],
   "source": [
    "\n",
    "print(G.neighbors(1))\n"
   ],
   "metadata": {
    "collapsed": false,
    "pycharm": {
     "name": "#%%\n"
    }
   }
  },
  {
   "cell_type": "code",
   "execution_count": null,
   "outputs": [],
   "source": [
    "\n",
    "# Какие есть соседи у узла 1?\n",
    "for v in G.neighbors(1):\n",
    "    print(v)\n"
   ],
   "metadata": {
    "collapsed": false,
    "pycharm": {
     "name": "#%%\n"
    }
   }
  },
  {
   "cell_type": "code",
   "execution_count": null,
   "outputs": [],
   "source": [
    "\n",
    "# А сколько есть соседей у узла 5?\n",
    "G.degree(1)\n"
   ],
   "metadata": {
    "collapsed": false,
    "pycharm": {
     "name": "#%%\n"
    }
   }
  },
  {
   "cell_type": "code",
   "execution_count": null,
   "outputs": [],
   "source": [
    "\n",
    "# А теперь узнаем число соседей (в терминах теории графов -- степень узла) каждого узла\n",
    "for node in G.nodes():\n",
    "    print (node, G.degree(node))\n"
   ],
   "metadata": {
    "collapsed": false,
    "pycharm": {
     "name": "#%%\n"
    }
   }
  },
  {
   "cell_type": "code",
   "execution_count": null,
   "outputs": [],
   "source": [
    "\n",
    "# вес ребра можно добавить так:\n",
    "\n",
    "G.add_edge(1, 3, weight=4)\n"
   ],
   "metadata": {
    "collapsed": false,
    "pycharm": {
     "name": "#%%\n"
    }
   }
  },
  {
   "cell_type": "code",
   "execution_count": null,
   "outputs": [],
   "source": [
    "\n",
    "dg = nx.DiGraph()\n",
    "dg.add_weighted_edges_from([(1,4,0.5), (3,1,0.75)]) # от кого -- кому и вес ребра\n"
   ],
   "metadata": {
    "collapsed": false,
    "pycharm": {
     "name": "#%%\n"
    }
   }
  },
  {
   "cell_type": "code",
   "execution_count": null,
   "outputs": [],
   "source": [
    "\n",
    "nx.write_gexf(G, 'graph_file.gexf')"
   ],
   "metadata": {
    "collapsed": false,
    "pycharm": {
     "name": "#%%\n"
    }
   }
  },
  {
   "cell_type": "code",
   "execution_count": null,
   "outputs": [],
   "source": [
    "\n",
    "G1 = nx.read_gexf('graph_file.gexf')\n"
   ],
   "metadata": {
    "collapsed": false,
    "pycharm": {
     "name": "#%%\n"
    }
   }
  },
  {
   "cell_type": "code",
   "execution_count": null,
   "outputs": [],
   "source": [
    "\n",
    "G\n"
   ],
   "metadata": {
    "collapsed": false,
    "pycharm": {
     "name": "#%%\n"
    }
   }
  },
  {
   "cell_type": "code",
   "execution_count": null,
   "outputs": [],
   "source": [
    "nodes_5 = [5]\n",
    "for v in G.neighbors(5):\n",
    "    print(v)\n",
    "    nodes_5.append(v)\n"
   ],
   "metadata": {
    "collapsed": false,
    "pycharm": {
     "name": "#%%\n"
    }
   }
  },
  {
   "cell_type": "code",
   "execution_count": null,
   "outputs": [],
   "source": [
    "\n",
    "nodes_5\n"
   ],
   "metadata": {
    "collapsed": false,
    "pycharm": {
     "name": "#%%\n"
    }
   }
  },
  {
   "cell_type": "code",
   "execution_count": null,
   "outputs": [],
   "source": [
    "\n",
    "sub_g = nx.subgraph(G, nodes_5)\n"
   ],
   "metadata": {
    "collapsed": false,
    "pycharm": {
     "name": "#%%\n"
    }
   }
  },
  {
   "cell_type": "code",
   "execution_count": null,
   "outputs": [],
   "source": [
    "\n",
    "pos = nx.spring_layout(sub_g)\n",
    "\n",
    "nx.draw_networkx_nodes(sub_g, pos, node_color='red', node_size=50) # рисуем узлы красным цветом, задаём размер узла\n",
    "nx.draw_networkx_edges(sub_g, pos, edge_color='yellow') # рисуем рёбра жёлтым\n",
    "plt.axis('off') # по умолчанию график будет снабжён осями с координатами, здесь они бессмысленны, так что отключаем\n",
    "plt.show()\n"
   ],
   "metadata": {
    "collapsed": false,
    "pycharm": {
     "name": "#%%\n"
    }
   }
  },
  {
   "cell_type": "code",
   "execution_count": null,
   "outputs": [],
   "source": [
    "\n",
    "import matplotlib.pyplot as plt \n",
    "\n",
    "# для начала надо выбрать способ \"укладки\" графа. Их много, возьмём для начала такой:\n",
    "pos=nx.spring_layout(G)\n",
    "\n",
    "nx.draw_networkx_nodes(G, pos, node_color='red', node_size=50) # рисуем узлы красным цветом, задаём размер узла\n",
    "nx.draw_networkx_edges(G, pos, edge_color='yellow') # рисуем рёбра жёлтым\n",
    "plt.axis('off') # по умолчанию график будет снабжён осями с координатами, здесь они бессмысленны, так что отключаем\n",
    "plt.show() # что получилось?\n"
   ],
   "metadata": {
    "collapsed": false,
    "pycharm": {
     "name": "#%%\n"
    }
   }
  },
  {
   "cell_type": "code",
   "execution_count": null,
   "outputs": [],
   "source": [
    "\n",
    "# То же, но добавим ещё подписи к узлам\n",
    "nx.draw_networkx_nodes(G, pos, node_color='red', node_size=10) \n",
    "nx.draw_networkx_edges(G, pos, edge_color='yellow')\n",
    "nx.draw_networkx_labels(G, pos, font_size=20, font_family='DejaVu Sans')\n",
    "plt.axis('off') \n",
    "plt.show()"
   ],
   "metadata": {
    "collapsed": false,
    "pycharm": {
     "name": "#%%\n"
    }
   }
  },
  {
   "cell_type": "code",
   "execution_count": null,
   "outputs": [],
   "source": [
    "\n",
    "# Радиус графа, минимальный эксцентриситет среди всех вершин графа\n",
    "print(nx.radius(G))\n",
    "\n",
    "# Диаметр графа, самый длинный путь от одной вершины до другой\n",
    "print(nx.diameter(G))\n",
    "\n",
    "# число узлов и рёбер\n",
    "\n",
    "print(G.number_of_nodes())\n",
    "print(G.number_of_edges())\n",
    "\n",
    "# Плотность графа, отношение рёбер и узлов\n",
    "\n",
    "print(nx.density(G))\n",
    "\n",
    "# Коэффициент ассортативности (насколько вся сеть завязана на основных \"хабах\"):\n",
    "\n",
    "print(nx.degree_pearson_correlation_coefficient(G))\n"
   ],
   "metadata": {
    "collapsed": false,
    "pycharm": {
     "name": "#%%\n"
    }
   }
  },
  {
   "cell_type": "code",
   "execution_count": null,
   "outputs": [],
   "source": [
    "\n",
    "# Центральность узлов (важность узлов)\n",
    "\n",
    "deg = nx.degree_centrality(G)\n",
    "for nodeid in sorted(deg, key=deg.get, reverse=True):\n",
    "    print(nodeid)\n"
   ],
   "metadata": {
    "collapsed": false,
    "pycharm": {
     "name": "#%%\n"
    }
   }
  },
  {
   "cell_type": "code",
   "execution_count": null,
   "outputs": [],
   "source": [
    "\n",
    "# вот какой коэффициент у нашего графа:\n",
    "\n",
    "print(nx.average_clustering(G))\n",
    "print(nx.transitivity(G))\n"
   ],
   "metadata": {
    "collapsed": false,
    "pycharm": {
     "name": "#%%\n"
    }
   }
  },
  {
   "cell_type": "code",
   "execution_count": null,
   "outputs": [],
   "source": [
    "\n",
    "import urllib.request\n",
    "import tarfile\n",
    "\n",
    "response = urllib.request.urlopen('http://konect.uni-koblenz.de/downloads/tsv/dolphins.tar.bz2')\n",
    "zipped = response.read()\n",
    "f = open('dolphins.tar.bz2', 'wb')\n",
    "f.write(zipped)\n",
    "f.close()\n",
    "\n",
    "tar = tarfile.open(\"dolphins.tar.bz2\")\n",
    "tar.extractall()\n",
    "tar.close()\n",
    "\n",
    "dolphin_G = nx.Graph()\n",
    "\n",
    "fg = open('dolphins/out.dolphins')\n",
    "for indx, line in enumerate(fg):\n",
    "    if indx:\n",
    "        line = line.strip()\n",
    "        node_1, node2 = line.split()\n",
    "        dolphin_G.add_edge(node_1, node2)\n",
    "fg.close()\n"
   ],
   "metadata": {
    "collapsed": false,
    "pycharm": {
     "name": "#%%\n"
    }
   }
  },
  {
   "cell_type": "code",
   "execution_count": null,
   "outputs": [],
   "source": [
    "\n",
    "# У этого графа кластерный коэффициент будет уже другим:\n",
    "\n",
    "print(nx.transitivity(dolphin_G))\n"
   ],
   "metadata": {
    "collapsed": false,
    "pycharm": {
     "name": "#%%\n"
    }
   }
  },
  {
   "cell_type": "code",
   "execution_count": null,
   "outputs": [],
   "source": [
    "\n",
    "# Какой дельфин самый главный в Новой Зеландии? :)\n",
    "\n",
    "deg_dolphin = nx.degree_centrality(dolphin_G)\n",
    "i = 0\n",
    "for nodeid in sorted(deg_dolphin, key=deg_dolphin.get, reverse=True):\n",
    "    i += 1\n",
    "    print(nodeid, round(deg_dolphin[nodeid], 3))\n",
    "    if i == 10:\n",
    "        break\n"
   ],
   "metadata": {
    "collapsed": false,
    "pycharm": {
     "name": "#%%\n"
    }
   }
  },
  {
   "cell_type": "code",
   "execution_count": null,
   "outputs": [],
   "source": [
    "\n",
    "# Теперь нарисуем, возьмёт для разнообразия другой layout\n",
    "\n",
    "pos = nx.spectral_layout(dolphin_G)\n",
    "#pos = nx.shell_layout(dolphin_G)\n",
    "nx.draw_networkx_nodes(dolphin_G, pos, node_color='blue', node_size=1) \n",
    "nx.draw_networkx_edges(dolphin_G, pos, edge_color='green')\n",
    "nx.draw_networkx_labels(dolphin_G, pos, font_size=10, font_family='DejaVu Sans')\n",
    "plt.axis('off') \n",
    "plt.show()\n"
   ],
   "metadata": {
    "collapsed": false,
    "pycharm": {
     "name": "#%%\n"
    }
   }
  },
  {
   "cell_type": "code",
   "execution_count": null,
   "outputs": [],
   "source": [
    "\n",
    "# Из графа можно извлечь подграф, где будут, например, только интересующие нас узлы:\n",
    "dolphins_sub = ['15', '38', '46']\n",
    "sub_G = dolphin_G.subgraph(dolphins_sub)\n",
    "print(sub_G.number_of_nodes())\n"
   ],
   "metadata": {
    "collapsed": false,
    "pycharm": {
     "name": "#%%\n"
    }
   }
  }
 ],
 "metadata": {
  "kernelspec": {
   "display_name": "Python 3",
   "language": "python",
   "name": "python3"
  },
  "language_info": {
   "codemirror_mode": {
    "name": "ipython",
    "version": 2
   },
   "file_extension": ".py",
   "mimetype": "text/x-python",
   "name": "python",
   "nbconvert_exporter": "python",
   "pygments_lexer": "ipython2",
   "version": "2.7.6"
  },
  "pycharm": {
   "stem_cell": {
    "cell_type": "raw",
    "source": [],
    "metadata": {
     "collapsed": false
    }
   }
  }
 },
 "nbformat": 4,
 "nbformat_minor": 0
}