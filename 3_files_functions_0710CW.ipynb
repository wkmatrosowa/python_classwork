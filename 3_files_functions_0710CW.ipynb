{
 "cells": [
  {
   "cell_type": "markdown",
   "metadata": {
    "collapsed": true,
    "pycharm": {
     "name": "#%% md\n"
    }
   },
   "source": [
    "# День функций и файлов\n",
    "\n",
    "## Файлы\n",
    "\n",
    "Открытие файла и его чтение – разные вещи в питоне.\n",
    "\n",
    "Открываем файл с помощью функции open (в скобках – строка с путем, по которому можно найти файл)"
   ]
  },
  {
   "cell_type": "code",
   "execution_count": null,
   "outputs": [],
   "source": [
    "f = open(\"file.txt\")"
   ],
   "metadata": {
    "collapsed": false,
    "pycharm": {
     "name": "#%%\n"
    }
   }
  },
  {
   "cell_type": "markdown",
   "source": [
    "Если файл лежит в нашем директории, то названия достаточно, а вот если где-то далеко, то надо постараться.\n",
    "\n",
    "### 2 типа названия файла:\n",
    "#### Абсолютный путь – как адрес на конверте (полный путь)\n",
    "На винде начинается с имени диска, а на маке и юниксе – с корневой директории /home/\n",
    "\n",
    "В пути к файлу есть разделители (\\ на винде и / на маке). С виндой, как всегда, куча проблем.\n",
    "\n",
    "\\t – это табуляция\n",
    "\n",
    "\\n – перевод строки\n",
    "\n",
    "#### Относительный путь – примерно то же, что \"за углом\"\n",
    "\n",
    "Допустим, \"dir/file.txt\", если в нашей программе вложенный директорий и в нем файл.\n",
    "Или \"../file.txt\" – скачем на уровень выше нашей программы\n",
    "Или \"../dir3/file.txt\"\n",
    "\n",
    "## Режим открытия файла\n",
    "\n",
    "Самый дефолтный – режим открытия r (для чтения)\n"
   ],
   "metadata": {
    "collapsed": false
   }
  },
  {
   "cell_type": "code",
   "execution_count": null,
   "outputs": [],
   "source": [
    "f = open(\"file.txt\", \"r\")"
   ],
   "metadata": {
    "collapsed": false,
    "pycharm": {
     "name": "#%%\n"
    }
   }
  },
  {
   "cell_type": "markdown",
   "source": [
    "Бывают файлы текстовые, бывают бинарные (картинка, музыка, видео). Для таких режим открытия \"rb\".\n",
    "\n",
    "Unicode – соответствие между количеством 0 и 1 и символами.\n",
    "Правило, что юникод = 1, – это кодировка.\n",
    "Стандартное правило – UTF-8.\n",
    "После режима чтения стоит использовать через запятую encoding = \"utf-8\", если ты на винде или работаешь не с другими языками (речь про ЕЯ).\n",
    "\n",
    "## Чтение файла\n",
    "\n",
    "Читаем только один раз.\n",
    "\n",
    "Самый простой способ:"
   ],
   "metadata": {
    "collapsed": false
   }
  },
  {
   "cell_type": "code",
   "execution_count": null,
   "outputs": [],
   "source": [
    "txt = f.read()"
   ],
   "metadata": {
    "collapsed": false,
    "pycharm": {
     "name": "#%%\n"
    }
   }
  },
  {
   "cell_type": "markdown",
   "source": [
    "Еще один способ: он читает файл, но представляет его в виде списка строк (от 1 символа до переноса строки). Если у нас\n",
    "четверостишье, то будет список из 4 элементов – каждый со строкой до переноса.\n",
    "\n",
    "Выбираем тот способ, который нам нужен! Если нам нужно посмотреть конкретные слова, то лучше именно второй способ, так как он\n",
    "не будет пробегать посимвольно."
   ],
   "metadata": {
    "collapsed": false
   }
  },
  {
   "cell_type": "code",
   "execution_count": null,
   "outputs": [],
   "source": [
    "lines = f.readlines()"
   ],
   "metadata": {
    "collapsed": false,
    "pycharm": {
     "name": "#%%\n"
    }
   }
  },
  {
   "cell_type": "markdown",
   "source": [
    "Третий способ похож на цикл.\n",
    "\n",
    "Здесь мы берем строки по одной."
   ],
   "metadata": {
    "collapsed": false
   }
  },
  {
   "cell_type": "code",
   "execution_count": null,
   "outputs": [],
   "source": [
    "for line in f:\n",
    "    if \"abc\" in line:\n",
    "        do_smth"
   ],
   "metadata": {
    "collapsed": false,
    "pycharm": {
     "name": "#%%\n"
    }
   }
  },
  {
   "cell_type": "markdown",
   "source": [
    "Называется такое \"синтаксический сахар\" (это название явления, когда могли сделать длинным кодом, \n",
    "а сделали в одну строчку)\n",
    "\n",
    "Способы отличаются экономностью.\n",
    "\n",
    "Закрыть файл:"
   ],
   "metadata": {
    "collapsed": false
   }
  },
  {
   "cell_type": "code",
   "execution_count": null,
   "outputs": [],
   "source": [
    "f.close()"
   ],
   "metadata": {
    "collapsed": false,
    "pycharm": {
     "name": "#%%\n"
    }
   }
  },
  {
   "cell_type": "markdown",
   "source": [
    "Открыть файл, чтобы его не понадобилось закрывать, можно так (это более экономный способ)"
   ],
   "metadata": {
    "collapsed": false
   }
  },
  {
   "cell_type": "code",
   "execution_count": null,
   "outputs": [],
   "source": [
    "with open(\"file.txt\", \"r\") as f:\n",
    "    txt = f.read()\n",
    "#Теперь файл закрыт, можно делать, что хочется\n",
    "words = txt.split()"
   ],
   "metadata": {
    "collapsed": false,
    "pycharm": {
     "name": "#%%\n"
    }
   }
  },
  {
   "cell_type": "markdown",
   "source": [
    "Что-то новенькое: файл с отрытием на запись! (В таком случае аргумент w обязателен)"
   ],
   "metadata": {
    "collapsed": false
   }
  },
  {
   "cell_type": "code",
   "source": [
    "fw = open(\"file_w.txt\", \"w\", encoding = \"utf-8\")\n",
    "    fw.write(str)\n",
    "fw.close()"
   ],
   "metadata": {
    "collapsed": false,
    "pycharm": {
     "name": "#%% \n"
    }
   },
   "execution_count": null,
   "outputs": []
  },
  {
   "cell_type": "markdown",
   "source": [
    "Есть еще один режим открытия файла на запись в тексте – \"a\" (add – добавление).\n",
    "\n",
    "Если файл с указанным именем был, все, что там было, стирается при использовании \"a\", и восстановить это никак не нельзя.\n",
    "Если мы создаем новый файл, то он создастся. \n",
    "Можно его изменить так, чтобы он работал по принципу метода .append, то есть можно попробовать сохранить информацию, но пока\n",
    "непонятно, как именно это сделать.\n",
    "\n",
    "Правда может быть и такое, что там ничего не сохранится, это питон так может шалить.\n",
    "\n",
    "Запись в бинарном формате – \"wb\".\n",
    "\n",
    "Итак, записываем информацию в файл:"
   ],
   "metadata": {
    "collapsed": false
   }
  },
  {
   "cell_type": "code",
   "execution_count": null,
   "outputs": [],
   "source": [
    "fw.write(str)"
   ],
   "metadata": {
    "collapsed": false,
    "pycharm": {
     "name": "#%%\n"
    }
   }
  },
  {
   "cell_type": "markdown",
   "source": [
    "Да, записывать методом write можно только строки.\n",
    "\n",
    "Список превращаем в строку с помощью \"\".join(list)"
   ],
   "metadata": {
    "collapsed": false
   }
  },
  {
   "cell_type": "code",
   "execution_count": null,
   "outputs": [],
   "source": [
    "\"\".join(list)\n"
   ],
   "metadata": {
    "collapsed": false,
    "pycharm": {
     "name": "#%%\n"
    }
   }
  },
  {
   "cell_type": "markdown",
   "source": [
    "Для словарей используем цикл for, где на каждой итерации применяем write.\n",
    "\n",
    "Ключ – k, значение – [k]\n",
    "Можно даже так сделать: str([k])\n",
    "\n",
    "Задание:\n",
    "\n",
    "Создать файл в формате plain txt\n",
    "Открыть и прочитать файл в программе\n",
    "Разбить на слова, привести к нижнему регистру, посчитать число токенов и уникальных словоформ"
   ],
   "metadata": {
    "collapsed": false
   }
  },
  {
   "cell_type": "code",
   "execution_count": null,
   "outputs": [],
   "source": [],
   "metadata": {
    "collapsed": false,
    "pycharm": {
     "name": "#%%\n"
    }
   }
  },
  {
   "cell_type": "markdown",
   "source": [
    "## Функции\n",
    "\n",
    "Все, что встроены в питон, называются встроенными. Но те, что создаем мы, называются пользовательскими.\n",
    "\n",
    "Объявляем функции старым-добрым def"
   ],
   "metadata": {
    "collapsed": false
   }
  },
  {
   "cell_type": "code",
   "execution_count": null,
   "outputs": [],
   "source": [
    "def func1(fname):\n",
    "    with open(fname, \"r\") as f:\n",
    "        txt = f.read()\n",
    "        words = txt.split()\n",
    "        for i, word in enumerate(words):\n",
    "            words[i] = word.strip(\".!,?()[]\")\n",
    "            words[i] = word.lower()\n",
    "    \n",
    "    return words\n",
    "\n",
    "wordlist = func1(\"file1.txt\")"
   ],
   "metadata": {
    "collapsed": false,
    "pycharm": {
     "name": "#%%\n"
    }
   }
  },
  {
   "cell_type": "markdown",
   "source": [
    "Все переменные, что мы объявляем внутри функции, остаются внутри функции.\n",
    "\n",
    "Писать что-то после return бессмысленно, потому что все, что ниже return, не будет выполняться.\n",
    "\n",
    "Еще мы можем вызывать функцию в соседнем файле. Допустим, у нас есть файл freader.py, из которого мы вызываем функцию в другой наш файл."
   ],
   "metadata": {
    "collapsed": false
   }
  },
  {
   "cell_type": "code",
   "execution_count": null,
   "outputs": [],
   "source": [
    "import freader\n",
    "words = freader.func1()"
   ],
   "metadata": {
    "collapsed": false,
    "pycharm": {
     "name": "#%%\n"
    }
   }
  },
  {
   "cell_type": "markdown",
   "source": [
    "Стандартная прога на питоне имеет:\n",
    "\n",
    "Сначала все импорты (желательно в алфавитном порядке)\n",
    "\n",
    "Затем определения всех функций\n",
    "\n",
    "Затем главная функция main\n",
    "\n",
    "И в самом конце – стандартное условие, которое отвечает за работу главной функции."
   ],
   "metadata": {
    "collapsed": false
   }
  },
  {
   "cell_type": "code",
   "execution_count": null,
   "outputs": [],
   "source": [
    "import ...\n",
    "import...\n",
    "\n",
    "def ...\n",
    "def...\n",
    "def main():\n",
    "\n",
    "if __name__ == '__main__':\n",
    "    main()"
   ],
   "metadata": {
    "collapsed": false,
    "pycharm": {
     "name": "#%%\n"
    }
   }
  },
  {
   "cell_type": "markdown",
   "source": [
    "Улучшаем нашу прогу из задания. Сделать так, чтобы программа была внутри функции.\n",
    "Функция не больше 10 строк."
   ],
   "metadata": {
    "collapsed": false
   }
  },
  {
   "cell_type": "code",
   "execution_count": null,
   "outputs": [],
   "source": [
    "\n"
   ],
   "metadata": {
    "collapsed": false,
    "pycharm": {
     "name": "#%%\n"
    }
   }
  }
 ],
 "metadata": {
  "language_info": {
   "codemirror_mode": {
    "name": "ipython",
    "version": 2
   },
   "file_extension": ".py",
   "mimetype": "text/x-python",
   "name": "python",
   "nbconvert_exporter": "python",
   "pygments_lexer": "ipython2",
   "version": "2.7.6"
  },
  "kernelspec": {
   "name": "python3",
   "language": "python",
   "display_name": "Python 3"
  },
  "pycharm": {
   "stem_cell": {
    "cell_type": "raw",
    "source": [],
    "metadata": {
     "collapsed": false
    }
   }
  }
 },
 "nbformat": 4,
 "nbformat_minor": 0
}