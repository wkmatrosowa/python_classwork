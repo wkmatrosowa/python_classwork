{
 "cells": [
  {
   "cell_type": "markdown",
   "source": [
    "\n",
    "# Условия. Циклы. Методы работы со строками\n",
    "\n",
    "Операторы:\n",
    "\n",
    "Равно == (не путать с =)\n",
    "\n",
    "Больше или равно >=\n",
    "\n",
    "Меньше или равно <=\n",
    "\n",
    "Не равно !=\n",
    "\n",
    "Больше > и меньще <"
   ],
   "metadata": {
    "collapsed": false,
    "pycharm": {
     "name": "#%% md\n"
    }
   }
  },
  {
   "cell_type": "code",
   "execution_count": null,
   "outputs": [],
   "source": [
    "a = 10\n",
    "b = 0\n",
    "\n",
    "if b != 0:\n",
    "    print(a/b)\n",
    "elif a == 10:\n",
    "    print(a)\n",
    "    print (\"a действительно равно 10\")\n",
    "else:\n",
    "    print(b)"
   ],
   "metadata": {
    "collapsed": false,
    "pycharm": {
     "name": "#%%\n"
    }
   }
  },
  {
   "cell_type": "markdown",
   "source": [
    "А теперь можно поработать с функцией input(). Она позволяет внести в переменную то, что введет пользователь, но используется только в учебных целях("
   ],
   "metadata": {
    "collapsed": false
   }
  },
  {
   "cell_type": "code",
   "execution_count": null,
   "outputs": [],
   "source": [
    "a = input(\"Введите число: \")\n"
   ],
   "metadata": {
    "collapsed": false,
    "pycharm": {
     "name": "#%%\n"
    }
   }
  },
  {
   "cell_type": "markdown",
   "source": [
    "Но это будет строка, а не число, поэтому используем функцию int()"
   ],
   "metadata": {
    "collapsed": false
   }
  },
  {
   "cell_type": "code",
   "execution_count": null,
   "outputs": [],
   "source": [
    "a = input(\"Введите число: \")\n",
    "a = int(a)\n",
    "print (a / 2)"
   ],
   "metadata": {
    "collapsed": false,
    "pycharm": {
     "name": "#%%\n"
    }
   }
  },
  {
   "cell_type": "markdown",
   "source": [
    "### Задание\n",
    "\n",
    "Написать программу, которая запрашивает у пользователя число. Проверяет, не является ли оно 0. Если нет, тогда проверяет его на четность. Результат выводит на экран."
   ],
   "metadata": {
    "collapsed": false
   }
  },
  {
   "cell_type": "code",
   "execution_count": null,
   "outputs": [],
   "source": [
    "a = input(\"Введите число: \")\n",
    "a = int(a)\n",
    "if a == 0:\n",
    "    print(\"a = 0\")\n",
    "else:\n",
    "    if a % 2 == 0:\n",
    "        print('Это четное число')\n",
    "    else:\n",
    "        print('Это нечетное число')"
   ],
   "metadata": {
    "collapsed": false,
    "pycharm": {
     "name": "#%%\n"
    }
   }
  },
  {
   "cell_type": "markdown",
   "source": [
    "В питоне есть два способа задать цикл:\n",
    "либо используя имеющиеся данные и проходя по ним поэлементно (for),\n",
    "либо используя более сложные вещи – пока верным является логическое выражение (while).\n",
    "\n",
    "Каждый пробег по циклу называется итерацией.\n"
   ],
   "metadata": {
    "collapsed": false
   }
  },
  {
   "cell_type": "code",
   "execution_count": null,
   "outputs": [],
   "source": [
    "s = \"I love linguistics\"\n",
    "for symbol in s:\n",
    "    if symbol != 'l':\n",
    "        print(symbol)"
   ],
   "metadata": {
    "collapsed": false,
    "pycharm": {
     "name": "#%%\n"
    }
   }
  },
  {
   "cell_type": "markdown",
   "source": [
    "Для того, чтобы задать числа, используем функцию range."
   ],
   "metadata": {
    "collapsed": false
   }
  },
  {
   "cell_type": "code",
   "execution_count": null,
   "outputs": [],
   "source": [
    "for x in range(1, 30):\n",
    "    print(x)"
   ],
   "metadata": {
    "collapsed": false,
    "pycharm": {
     "name": "#%%\n"
    }
   }
  },
  {
   "cell_type": "markdown",
   "source": [
    "Последняя цифра не включается в этот ряд. Если параметр у range один (например, range (30) ), отсчет пойдет с нуля.\n",
    "\n",
    "Посмотрим на цикл while, но предотвратим бесконечный цикл"
   ],
   "metadata": {
    "collapsed": false
   }
  },
  {
   "cell_type": "code",
   "execution_count": null,
   "outputs": [],
   "source": [
    "x = 10\n",
    "while x > 0:\n",
    "    print(x)\n",
    "    x -=  1  #оператор вычитания, который показывает, \n",
    "             #что во время прохождения цикла\n",
    "             #x будет уменьшаться, иначе цикл будет\n",
    "             #бесконечным\n",
    "    continue #после этой строчки питон переходит в начало\n",
    "             #цикла, и после него ничего не сработает"
   ],
   "metadata": {
    "collapsed": false,
    "pycharm": {
     "name": "#%%\n"
    }
   }
  },
  {
   "cell_type": "code",
   "execution_count": null,
   "outputs": [],
   "source": [
    "x = 10\n",
    "while x > 0:\n",
    "    print(x)\n",
    "    x -=  1 \n",
    "    if x == 5:\n",
    "        continue \n",
    "    if x == 3:\n",
    "        break #конец работы, цикл прерывается\n",
    "    print(x)"
   ],
   "metadata": {
    "collapsed": false,
    "pycharm": {
     "name": "#%%\n"
    }
   }
  },
  {
   "cell_type": "code",
   "execution_count": null,
   "outputs": [],
   "source": [
    "s = \"I love linguistics\"\n",
    "for i, symbol in enumerate(s):\n",
    "    if i == len(s) - 2:\n",
    "        break\n",
    "        "
   ],
   "metadata": {
    "collapsed": false,
    "pycharm": {
     "name": "#%%\n"
    }
   }
  },
  {
   "cell_type": "markdown",
   "source": [
    "enumerate – новая функция!\n",
    "\n",
    "## Операции со строками\n",
    "\n",
    "А еще можно вытащить по одному элементу в зависимости от индекса."
   ],
   "metadata": {
    "collapsed": false
   }
  },
  {
   "cell_type": "code",
   "execution_count": null,
   "outputs": [],
   "source": [
    "s = \"I love linguistics\"\n",
    "letter = s[2]\n",
    "print(letter)"
   ],
   "metadata": {
    "collapsed": false,
    "pycharm": {
     "name": "#%%\n"
    }
   }
  },
  {
   "cell_type": "markdown",
   "source": [],
   "metadata": {
    "collapsed": false
   }
  },
  {
   "cell_type": "code",
   "execution_count": null,
   "outputs": [],
   "source": [
    "s = \"I love linguistics\"\n",
    "if s.startswith('I'):\n",
    "    print(\"Yes\")\n",
    "    \n",
    "if s.endswith('s'): #то же, что if s[-1] == \"s\"\n",
    "    print(\"And this is yes\")\n",
    "\n",
    "if s.endswith('ics'): #с этим методом может быть сколько угодно символов в окончании\n",
    "    print(\"Oh yes\")"
   ],
   "metadata": {
    "collapsed": false,
    "pycharm": {
     "name": "#%%\n"
    }
   }
  },
  {
   "cell_type": "code",
   "execution_count": null,
   "outputs": [],
   "source": [
    "s = s.strip() #работает для начала и конца строки только, позволяет убрать мусор слева и справа строки\n",
    "s = s.strip('!') #отрежется только !, остальное останется\n",
    "s1 = s.replace(\"l\", \"gl\")"
   ],
   "metadata": {
    "collapsed": false,
    "pycharm": {
     "name": "#%%\n"
    }
   }
  },
  {
   "cell_type": "markdown",
   "source": [
    "\\n – перевод строки\n",
    "\n",
    "\\t – табуляция\n",
    "\n",
    "strip() работает для начала и конца строки только, позволяет убрать мусор слева и справа строки, если только не задать,\n",
    "что конкретно убрать.\n",
    "\n",
    "Это можно использовать в питоне\n",
    "\n",
    "replace() первый параметр – что хотим заменить, второй – на что заменить\n",
    "\n",
    "Оператор in"
   ],
   "metadata": {
    "collapsed": false
   }
  },
  {
   "cell_type": "code",
   "execution_count": null,
   "outputs": [],
   "source": [
    "if 'o' in s:\n",
    "    print(s)"
   ],
   "metadata": {
    "collapsed": false,
    "pycharm": {
     "name": "#%%\n"
    }
   }
  },
  {
   "cell_type": "markdown",
   "source": [
    "Напишем программу, которая спрашивает у пользователя слово.\n",
    "И проверяет, является ли это слово прилагательным женского\n",
    "рода в родительном падеже. После проверки программа запрашивает другое слово.\n",
    "Если пользователь ввел пустое слово (\"\"), то программа завершается."
   ],
   "metadata": {
    "collapsed": false
   }
  },
  {
   "cell_type": "code",
   "execution_count": null,
   "outputs": [],
   "source": [
    "while True:\n",
    "    a = input(\"Введите слово: \")\n",
    "    if a == \"\":\n",
    "        break\n",
    "    elif a.endswith(\"ой\"):\n",
    "        print('Это прилагательное ж.р. в род.пад.')\n",
    "    elif a.endswith(\"ей\"):\n",
    "        print('Это тоже прилагательное ж.р. в род.пад.')\n",
    "    else:\n",
    "        print('Это не прилагательное')\n",
    "\n"
   ],
   "metadata": {
    "collapsed": false,
    "pycharm": {
     "name": "#%%\n"
    }
   }
  }
 ],
 "metadata": {
  "language_info": {
   "codemirror_mode": {
    "name": "ipython",
    "version": 2
   },
   "file_extension": ".py",
   "mimetype": "text/x-python",
   "name": "python",
   "nbconvert_exporter": "python",
   "pygments_lexer": "ipython2",
   "version": "2.7.6"
  },
  "kernelspec": {
   "name": "python3",
   "language": "python",
   "display_name": "Python 3"
  },
  "pycharm": {
   "stem_cell": {
    "cell_type": "raw",
    "source": [],
    "metadata": {
     "collapsed": false
    }
   }
  }
 },
 "nbformat": 4,
 "nbformat_minor": 0
}