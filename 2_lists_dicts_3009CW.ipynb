{
 "cells": [
  {
   "cell_type": "code",
   "execution_count": null,
   "outputs": [],
   "source": [
    "s = s.lower()\n",
    "s = s.upper()\n",
    "s = s.capitalize()"
   ],
   "metadata": {
    "collapsed": false,
    "pycharm": {
     "name": "#%%\n"
    }
   }
  },
  {
   "cell_type": "markdown",
   "source": [
    "Или немного о том, какие вещи мы используем, чтобы привести весь массив к одному регистру.\n",
    "\n",
    "# Вложенные списки"
   ],
   "metadata": {
    "collapsed": false
   }
  },
  {
   "cell_type": "code",
   "execution_count": null,
   "outputs": [],
   "source": [
    "s1 = \"I love linguistics\"\n",
    "s2 = \"linguistics is great\"\n",
    "for i, sym in enumerate(s1):\n",
    "    if sym in s2:\n",
    "        for j, sym in enumerate(s2):\n",
    "            if sym == sym2:\n",
    "                print(i, j)\n",
    "                break"
   ],
   "metadata": {
    "collapsed": false,
    "pycharm": {
     "name": "#%%\n"
    }
   }
  },
  {
   "cell_type": "markdown",
   "source": [
    "# Списки\n",
    "\n",
    "Список – это последовательность. Создаем при помощи list. \n",
    "\n",
    "С ними работает то, что не работало со строкой. Мы можем не только достать из списка элемент, но и положить его в список.\n",
    "\n",
    "Строка в питоне – неизменяемый тип данных, список – изменяемый.\n",
    "\n",
    "К тому же нам важно преобразовывать текст в списки, чтобы питон не путал подстроки с отдельными элементами.\n",
    "\n",
    "Посмотрим, какие у нас есть инструменты для получения списка из строки.\n",
    "\n",
    "## № 1"
   ],
   "metadata": {
    "collapsed": false
   }
  },
  {
   "cell_type": "code",
   "execution_count": null,
   "outputs": [],
   "source": [
    "s = \"I love linguistics\"\n",
    "a1 = list(s)"
   ],
   "metadata": {
    "collapsed": false,
    "pycharm": {
     "name": "#%%\n"
    }
   }
  },
  {
   "cell_type": "markdown",
   "source": [
    "При таком раскладе каждым элементом списка будет одна буква.\n",
    "\n",
    "## №2"
   ],
   "metadata": {
    "collapsed": false
   }
  },
  {
   "cell_type": "code",
   "execution_count": null,
   "outputs": [],
   "source": [
    "a2 = s.split()\n",
    "\n"
   ],
   "metadata": {
    "collapsed": false,
    "pycharm": {
     "name": "#%%\n"
    }
   }
  },
  {
   "cell_type": "markdown",
   "source": [
    "Если оставить пустые скобки, то .split сам разделит по пробелоподобным вещам (здесь – по пробелам).\n",
    "\n",
    "Но мы можем задать другое значение для split."
   ],
   "metadata": {
    "collapsed": false
   }
  },
  {
   "cell_type": "code",
   "execution_count": null,
   "outputs": [],
   "source": [
    "a3 = s.split(\"ng\")"
   ],
   "metadata": {
    "collapsed": false,
    "pycharm": {
     "name": "#%%\n"
    }
   }
  },
  {
   "cell_type": "markdown",
   "source": [
    ".split, конечно, нужен чаще, чем list. Мы также можем сделать обратный процесс: склеить все слова в одну строку при помощи .join.\n",
    "Только эта функция работает только со строками, и чтобы сделать такое с числами, надо преобразовать их."
   ],
   "metadata": {
    "collapsed": false
   }
  },
  {
   "cell_type": "code",
   "execution_count": null,
   "outputs": [],
   "source": [
    "s3 = \" \".join(a2)"
   ],
   "metadata": {
    "collapsed": false,
    "pycharm": {
     "name": "#%%\n"
    }
   }
  },
  {
   "cell_type": "markdown",
   "source": [
    "Можно список пополнять – используем старый-добрый .append."
   ],
   "metadata": {
    "collapsed": false
   }
  },
  {
   "cell_type": "code",
   "execution_count": null,
   "outputs": [],
   "source": [
    "a4 = [1, 2, 3]\n",
    "a4.append(4)"
   ],
   "metadata": {
    "collapsed": false,
    "pycharm": {
     "name": "#%%\n"
    }
   }
  },
  {
   "cell_type": "markdown",
   "source": [
    "Поговорим про вложенные списки"
   ],
   "metadata": {
    "collapsed": false
   }
  },
  {
   "cell_type": "code",
   "execution_count": null,
   "outputs": [],
   "source": [
    "a5 = [5, 6, 7]\n",
    "a4.append(a5)"
   ],
   "metadata": {
    "collapsed": false,
    "pycharm": {
     "name": "#%%\n"
    }
   }
  },
  {
   "cell_type": "markdown",
   "source": [
    "Можно получить доступ к элементу во вложенном списке"
   ],
   "metadata": {
    "collapsed": false
   }
  },
  {
   "cell_type": "code",
   "execution_count": null,
   "outputs": [],
   "source": [
    "a4[4][1]"
   ],
   "metadata": {
    "collapsed": false,
    "pycharm": {
     "name": "#%%\n"
    }
   }
  },
  {
   "cell_type": "markdown",
   "source": [
    "Еще можно добавить вот так: не одним элементом, а несколькими"
   ],
   "metadata": {
    "collapsed": false
   }
  },
  {
   "cell_type": "code",
   "execution_count": null,
   "outputs": [],
   "source": [
    "a4 = [1, 2, 3]\n",
    "a5 = [4, 5, 6]\n",
    "a4.extend(a5)"
   ],
   "metadata": {
    "collapsed": false,
    "pycharm": {
     "name": "#%%\n"
    }
   }
  },
  {
   "cell_type": "markdown",
   "source": [
    "Теперь идем дальше. Мы можем сделать что угодно с помощью .split, но с исходным текстом ничего не изменится. Чтобы что-то изменилось, надо обратиться к нему по-другому – с помощью enumerate."
   ],
   "metadata": {
    "collapsed": false
   }
  },
  {
   "cell_type": "code",
   "execution_count": null,
   "outputs": [],
   "source": [
    "txt\n",
    "words = txt.split()\n",
    "for word in words:\n",
    "    word = word.strip(\".,!?\")\n",
    "\n",
    "for i,word in enumerate(words):\n",
    "    word = word.strip(\".,?!\")\n",
    "    words[i] = word\n",
    "    #можно сразу написать words[i] и сделать в одну точку"
   ],
   "metadata": {
    "collapsed": false,
    "pycharm": {
     "name": "#%%\n"
    }
   }
  },
  {
   "cell_type": "markdown",
   "source": [
    "Новый фокус: если приравнять наши списки и исправить один из них, то изменится и другой, потому что это становится один и тот же список."
   ],
   "metadata": {
    "collapsed": false
   }
  },
  {
   "cell_type": "code",
   "execution_count": 1,
   "outputs": [
    {
     "name": "stdout",
     "text": [
      "[4, 2, 3] [4, 2, 3]\n"
     ],
     "output_type": "stream"
    }
   ],
   "source": [
    "a = [1, 2, 3]\n",
    "a1 = a\n",
    "a1[0] = 4\n",
    "print(a, a1)\n"
   ],
   "metadata": {
    "collapsed": false,
    "pycharm": {
     "name": "#%%\n",
     "is_executing": false
    }
   }
  },
  {
   "cell_type": "markdown",
   "source": [
    "Поговорим о срезах (slice по-английски). Они делаются так: [начало:конец:шаг]"
   ],
   "metadata": {
    "collapsed": false
   }
  },
  {
   "cell_type": "code",
   "execution_count": null,
   "outputs": [],
   "source": [
    "a = [1, 2, 3, 4, 5]\n",
    "a1 = a[:3] #если шаг 1 и хотим начать с 0 элемента\n",
    "a2 = a[2:] #если хотим до конца сделать срез:\n",
    "a3 = a[::-1] #если надо сделать в обратном порядке\n",
    "a4 = a[:] #создаем копию списка\n",
    "\n"
   ],
   "metadata": {
    "collapsed": false,
    "pycharm": {
     "name": "#%%\n"
    }
   }
  },
  {
   "cell_type": "markdown",
   "source": [
    "Упражнение: написать программу, которая спрашивает у пользователя текст, разбивает его на слова,\n",
    "сообщает, есть ли слова, начинающиеся с буквы а."
   ],
   "metadata": {
    "collapsed": false
   }
  },
  {
   "cell_type": "code",
   "execution_count": null,
   "outputs": [],
   "source": [
    "while True:\n",
    "    text = input(\"Введите свой текст: \")\n",
    "    text = text.lower()\n",
    "    words = text.split()\n",
    "    for word in words:\n",
    "        if word.startswith('а'):\n",
    "            word_a = []\n",
    "            word_a.append(word)\n",
    "            print(word_a)\n",
    "        else:\n",
    "            print('В тексте нет слов, начинающихся на букву \"А\"')\n",
    "            break\n",
    "\n",
    "# Словари\n",
    "\n",
    "Словари нужны для храния соответствий (пары). Первая часть – ключ (key), \n",
    "Словари нужны для храния соответствий (пары). Первая часть – ключ (key), вторая часть – значение (value).\n",
    "\n",
    "## Ключи\n",
    "\n",
    "Ключами могут быть только неизменяемые типы данных.\n",
    "\n",
    "Они не могут повторяться. Если повторятся, то первая пара перезапишется.\n",
    "\n",
    "Закон Ципфа говорит, что есть небольшое количество высокочастотных слов, затем идет резкое уменьшение частотности. Эмпирическая закономерность распределения частоты слов естественного языка: если все слова языка упорядочить по убыванию частоты их использования, то частота n-го слова в таком списке окажется приблизительно обратно пропорциональной его порядковому номеру n.\n",
    "\n",
    "Вернемся к словарям. Зададим словарь."
   ],
   "metadata": {
    "collapsed": false,
    "pycharm": {
     "name": "#%%\n"
    }
   }
  },
  {
   "cell_type": "code",
   "execution_count": null,
   "outputs": [],
   "source": [
    "d = {}\n",
    "\n",
    "a = text.split()\n",
    "for word in a:\n",
    "    if word in d:\n",
    "        d[word] += 1 #изменяем значение по этому ключу: прибавляем 1\n",
    "    else:\n",
    "        d[word] = 1 #у слова частотность 1, поэтому записываем частотность 1\n",
    "        \n",
    "    "
   ],
   "metadata": {
    "collapsed": false,
    "pycharm": {
     "name": "#%%\n"
    }
   }
  },
  {
   "cell_type": "markdown",
   "source": [
    "Достаем ключи из словаря\n"
   ],
   "metadata": {
    "collapsed": false,
    "pycharm": {
     "name": "#%% md\n"
    }
   }
  },
  {
   "cell_type": "code",
   "execution_count": 3,
   "outputs": [
    {
     "name": "stdout",
     "text": [
      "0 0\n1 0\n2 0\n3 0\n4 0\n"
     ],
     "output_type": "stream"
    }
   ],
   "source": [
    "for word in sorted(d):\n",
    "    print(word, d[word])"
   ],
   "metadata": {
    "collapsed": false,
    "pycharm": {
     "name": "#%%\n",
     "is_executing": false
    }
   }
  },
  {
   "cell_type": "markdown",
   "source": [
    "Если надо посчитать цифры – вводим range\n",
    "\n",
    "Подчеркивание нужно, чтобы показать, что все числа, которые попадают после for, – мусор, и нам не понадобятся."
   ],
   "metadata": {
    "collapsed": false
   }
  },
  {
   "cell_type": "code",
   "execution_count": 2,
   "outputs": [
    {
     "name": "stdout",
     "text": [
      "{0: 0, 1: 0, 2: 0, 3: 0, 4: 0}\n"
     ],
     "output_type": "stream"
    }
   ],
   "source": [
    "a = [x for x in range(14,119)]\n",
    "b = [\"a\" for _ in range(10)] #просто напечатает 10 раз строку а\n",
    "\n",
    "d = {x:0 for x in range (5)}\n",
    "print(d)"
   ],
   "metadata": {
    "collapsed": false,
    "pycharm": {
     "name": "#%%\n",
     "is_executing": false
    }
   }
  },
  {
   "cell_type": "markdown",
   "source": [
    "Вручную словарь программисты не пишут)))\n",
    "\n",
    "Упражнение: написать программу, которая умеет шифровать текст шифром Цезаря (заменяет одну букву на другую)\n",
    "\n",
    "Буква шифруется следующей по алфавиту (а –> б и т.д.)\n",
    "\n",
    "Соответствие такого шифра хранится в словаре. \n",
    "\n",
    "Слово задает пользователь и получает зашифрованный вариант на экране.\n",
    "\n",
    "Если хотим получить букву из цифры, используем chr(digit) и ord(sym)"
   ],
   "metadata": {
    "collapsed": false,
    "pycharm": {
     "name": "#%% md\n"
    }
   }
  }
 ],
 "metadata": {
  "language_info": {
   "codemirror_mode": {
    "name": "ipython",
    "version": 2
   },
   "file_extension": ".py",
   "mimetype": "text/x-python",
   "name": "python",
   "nbconvert_exporter": "python",
   "pygments_lexer": "ipython2",
   "version": "2.7.6"
  },
  "kernelspec": {
   "name": "python3",
   "language": "python",
   "display_name": "Python 3"
  },
  "pycharm": {
   "stem_cell": {
    "cell_type": "raw",
    "source": [],
    "metadata": {
     "collapsed": false
    }
   }
  }
 },
 "nbformat": 4,
 "nbformat_minor": 0
}