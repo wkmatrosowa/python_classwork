{
 "cells": [
  {
   "cell_type": "markdown",
   "metadata": {
    "collapsed": true,
    "pycharm": {
     "name": "#%% md\n"
    }
   },
   "source": [
    "## Базы данных\n",
    "\n",
    "Каждая новая запись требует больше объема, и это может быть проблемой.\n",
    "\n",
    "Чем больше данных в таблице, тем медленне БД будет работать. Чтобы\n",
    "увеличить производительность, надо уменьшать объем.\n",
    "\n",
    "Добавлять можно только один тип данных в одном поле (условие,\n",
    "которое придумали для упрощения хранения данных и работы с БД)\n",
    "\n",
    "### Реляционные БД\n",
    "\n",
    "Реляционные – самые распространенные и надежные\n",
    "\n",
    "Не просто таблички, а таблички со связями между ними\n",
    "\n",
    "Почему не организовать данные в одну табличку? Потому что данные могут\n",
    "повторяться, и это не очень хорошо.\n",
    "\n",
    "У каждых данных есть ID\n",
    "\n",
    "Клиент-серверная структура: есть сервер, на котором крутится БД,\n",
    "и клиент, которые умеет к серверу обращаться. Взаимодействие происходит\n",
    "на языках с общим прототипом SQL.\n",
    "\n",
    "Язык SQL традиционно устойчив к регистру (большей части его разновидностей\n",
    "все равно, большими или маленькими буквами)\n",
    "\n",
    "Извлечь/выбрать – select\n"
   ]
  },
  {
   "cell_type": "code",
   "execution_count": null,
   "outputs": [],
   "source": [],
   "metadata": {
    "collapsed": false,
    "pycharm": {
     "name": "#%%\n"
    }
   }
  },
  {
   "cell_type": "markdown",
   "source": [],
   "metadata": {
    "collapsed": false,
    "pycharm": {
     "name": "#%% md\n"
    }
   }
  },
  {
   "cell_type": "code",
   "execution_count": null,
   "outputs": [],
   "source": [],
   "metadata": {
    "collapsed": false,
    "pycharm": {
     "name": "#%%\n"
    }
   }
  },
  {
   "cell_type": "markdown",
   "source": [],
   "metadata": {
    "collapsed": false,
    "pycharm": {
     "name": "#%% md\n"
    }
   }
  },
  {
   "cell_type": "code",
   "execution_count": null,
   "outputs": [],
   "source": [],
   "metadata": {
    "collapsed": false,
    "pycharm": {
     "name": "#%%\n"
    }
   }
  },
  {
   "cell_type": "markdown",
   "source": [],
   "metadata": {
    "collapsed": false
   }
  },
  {
   "cell_type": "code",
   "execution_count": null,
   "outputs": [],
   "source": [],
   "metadata": {
    "collapsed": false,
    "pycharm": {
     "name": "#%%\n"
    }
   }
  },
  {
   "cell_type": "markdown",
   "source": [],
   "metadata": {
    "collapsed": false,
    "pycharm": {
     "name": "#%% md\n"
    }
   }
  }
 ],
 "metadata": {
  "kernelspec": {
   "display_name": "Python 3",
   "language": "python",
   "name": "python3"
  },
  "language_info": {
   "codemirror_mode": {
    "name": "ipython",
    "version": 2
   },
   "file_extension": ".py",
   "mimetype": "text/x-python",
   "name": "python",
   "nbconvert_exporter": "python",
   "pygments_lexer": "ipython2",
   "version": "2.7.6"
  },
  "pycharm": {
   "stem_cell": {
    "cell_type": "raw",
    "source": [],
    "metadata": {
     "collapsed": false
    }
   }
  }
 },
 "nbformat": 4,
 "nbformat_minor": 0
}