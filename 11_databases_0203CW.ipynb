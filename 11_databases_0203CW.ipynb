{
 "cells": [
  {
   "cell_type": "markdown",
   "metadata": {
    "collapsed": true,
    "pycharm": {
     "name": "#%% md\n"
    }
   },
   "source": [
    "## Базы данных\n",
    "\n",
    "Каждая новая запись требует больше объема, и это может быть проблемой.\n",
    "\n",
    "Чем больше данных в таблице, тем медленне БД будет работать. Чтобы\n",
    "увеличить производительность, надо уменьшать объем.\n",
    "\n",
    "Добавлять можно только один тип данных в одном поле (условие,\n",
    "которое придумали для упрощения хранения данных и работы с БД)\n",
    "\n",
    "### Реляционные БД\n",
    "\n",
    "Реляционные – самые распространенные и надежные\n",
    "\n",
    "Не просто таблички, а таблички со связями между ними\n",
    "\n",
    "Почему не организовать данные в одну табличку? Потому что данные могут\n",
    "повторяться, и это не очень хорошо.\n",
    "\n",
    "У каждых данных есть ID\n",
    "\n",
    "Клиент-серверная структура: есть сервер, на котором крутится БД,\n",
    "и клиент, которые умеет к серверу обращаться. Взаимодействие происходит\n",
    "на языках с общим прототипом SQL.\n",
    "\n",
    "Язык SQL традиционно устойчив к регистру (большей части его разновидностей\n",
    "все равно, большими или маленькими буквами).\n",
    "\n",
    "### Операторы\n",
    "\n",
    "Извлечь/выбрать – select from\n",
    "Поместить значение – insert into\n",
    "Обновить – update\n",
    "Создать – create\n",
    "Уничтожить – drop\n",
    "\n",
    "Хочу всю строку из таблицы words, которая соответствует условию:\n",
    "\n",
    "SELECT * FROM words WHERE pos=\"S\" LIMIT 20\n",
    "\n",
    "Запрос должен вернуть, например, 20 штук существительных S\n",
    "\n",
    "Фишка еще в том, что какую-то сортировку мы можем применить уже на этапе запроса\n",
    "\n",
    "SELECT * FROM words WHERE pos=\"S\" LIMIT 20 ORDER BY ID \n",
    "\n",
    "Выдаст в порядке ID. Поместить в таблицу (все значения в таком порядке, в каком\n",
    "они в таблице):\n",
    "\n",
    "INSERT INTO words VALUES (15, \"слово15\", \"PRO\")\n",
    "\n",
    "Создаем таблицу – пишем имя колонки и тип. Это досталось от древних\n",
    "языков программирования, где надо было сразу определить тип\n",
    "переменной\n",
    "\n",
    "CREATE TABLE words (ID INT, word VARCHAR, POS VARCHAR)\n",
    "или\n",
    "CREATE TABLE words (ID int, word text, POS text)\n",
    "\n",
    "Зависит от \"диалекта\" SQL\n",
    "\n",
    "MySQL не очень удобна для переноса БД с компа на комп\n",
    "SQLite – облегченный SQL, удобна тем, что питон по умолчанию умеет\n",
    "с ним общаться (ничего устанавливать дополнительно не надо). БД\n",
    "создается как файл, поэтому его легко можно перенести на другой комп.\n",
    "Однако с ним неудобно работать, если нужно нескольких человек подключать\n",
    "к БД.\n",
    "\n",
    "Работаем с SQLite\n",
    "\n",
    "Шаг 1 – установить соединение\n",
    "Шаг 2 – создать курсор, которым будем обращаться к БД\n",
    "Шаг 3 – создать таблицу методом execute (принимает на вход\n",
    "SQL-запрос в виде строки)\n",
    "Шаг 4 – сохраняем изменения коммитом\n",
    "\n",
    "```python\n",
    "import sqlite3\n",
    "conn = sqlite3.connect(\"mydb.db\")\n",
    "cursor = conn.cursor()\n",
    "cursor.execute(\"CREATE TABLE words (ID INT, word VARCHAR, POS VARCHAR)\")\n",
    "conn.commit()\n",
    "\n",
    "```\n",
    "Если строчка в питоне получается длинной, мы ее разбиваем на 2\n",
    "части в том месте, где хотим. Используем обратный слеш:\n",
    "\n",
    "```python\n",
    "print(\\\n",
    "6)\n",
    "```\n",
    "\n",
    "Можно использовать многострочный комментарий – три кавычки\n",
    "\n",
    "```python\n",
    "print('''I love\n",
    "linguistics''')\n",
    "```\n",
    "''' = \"\"\""
   ]
  },
  {
   "cell_type": "code",
   "execution_count": 1,
   "outputs": [
    {
     "name": "stdout",
     "text": [
      "I love\n",
      "linguistics\n"
     ],
     "output_type": "stream"
    }
   ],
   "source": [
    "print('''I love\n",
    "linguistics''')"
   ],
   "metadata": {
    "collapsed": false,
    "pycharm": {
     "name": "#%%\n",
     "is_executing": false
    }
   }
  },
  {
   "cell_type": "markdown",
   "source": [
    ".format тоже сработает\n",
    "```python\n",
    "'''{}.txt'''.format(s)\n",
    "```\n",
    "```python\n",
    "sql_query = \"select * from words where pos='v'\"\n",
    "cursor.execute(sql_query)\n",
    "print(cursor.fetchall())\n",
    "```\n",
    "Можно сделать в цикле питона\n",
    "\n",
    "```python\n",
    "for row in cursor.execute(\"SELECT\"):\n",
    "    print(row)\n",
    "\n",
    "```\n",
    "Создать БД с 1 таблицей\n",
    "Вытащить данные и посмотреть, что за типы данных\n",
    "\n",
    "К БД в sqlite файл можно обращаться не только через питон"
   ],
   "metadata": {
    "collapsed": false,
    "pycharm": {
     "name": "#%% md\n"
    }
   }
  },
  {
   "cell_type": "code",
   "execution_count": 31,
   "outputs": [],
   "source": [
    "import sqlite3\n",
    "conn = sqlite3.connect(\"mydb.db\")\n",
    "cursor = conn.cursor()\n",
    "cursor.execute(\"CREATE TABLE IF NOT EXISTS cats (ID INT, catname VARCHAR, catbride VARCHAR)\")\n",
    "conn.commit()"
   ],
   "metadata": {
    "collapsed": false,
    "pycharm": {
     "name": "#%%\n",
     "is_executing": false
    }
   }
  },
  {
   "cell_type": "code",
   "execution_count": 30,
   "outputs": [],
   "source": [
    "add_cat = \"\"\"INSERT INTO cats (ID, catname, catbride) VALUES \n",
    "(1, \"Нана\", \"Европейская\"),\n",
    "(2, \"Айна\", \"Британская\")\"\"\"\n",
    "cursor.execute(add_cat)\n",
    "conn.commit()"
   ],
   "metadata": {
    "collapsed": false,
    "pycharm": {
     "name": "#%%\n",
     "is_executing": false
    }
   }
  },
  {
   "cell_type": "code",
   "source": [
    "sql_query = \"select * from cats\"\n",
    "cursor.execute(sql_query)\n",
    "print(cursor.fetchall())"
   ],
   "metadata": {
    "collapsed": false,
    "pycharm": {
     "name": "#%%\n",
     "is_executing": false
    }
   },
   "execution_count": 33,
   "outputs": [
    {
     "name": "stdout",
     "text": [
      "[(1, 'Нана', 'Европейская'), (2, 'Айна', 'Британская')]\n"
     ],
     "output_type": "stream"
    }
   ]
  },
  {
   "cell_type": "code",
   "execution_count": 32,
   "outputs": [
    {
     "name": "stdout",
     "text": [
      "(1, 'Нана', 'Европейская')\n",
      "(2, 'Айна', 'Британская')\n"
     ],
     "output_type": "stream"
    }
   ],
   "source": [
    "for row in cursor.execute(sql_query):\n",
    "    print(row)"
   ],
   "metadata": {
    "collapsed": false,
    "pycharm": {
     "name": "#%%\n",
     "is_executing": false
    }
   }
  },
  {
   "cell_type": "code",
   "source": [
    "drop_cats = \"DROP TABLE IF EXISTS cats\"\n",
    "cursor.execute(drop_cats)\n",
    "conn.commit()"
   ],
   "metadata": {
    "collapsed": false,
    "pycharm": {
     "name": "#%%\n",
     "is_executing": false
    }
   },
   "execution_count": 27,
   "outputs": []
  },
  {
   "cell_type": "markdown",
   "source": [
    "Выбрать что-то сразу из многих таблиц\n",
    "\n",
    "```python\n",
    "\"\"\"SELECT words.word, pos.pos FROM words, pos \n",
    "WHERE words.pos = pos.ID AND ... \"\"\"\n",
    "```\n",
    "Чем-то похоже на join, но join для более сложных запросов\n",
    "\n",
    "Задание:\n",
    "1) Взять несколько текстов\n",
    "2) Разобрать их майстемом\n",
    "3) Создать базу данных, в которой были бы данные о текстах\n",
    "(о словах, разборах, текстах, откуда они взяты, предложениях\n",
    "\n",
    "слово: документ 15, предложение 4, позиция 1"
   ],
   "metadata": {
    "collapsed": false,
    "pycharm": {
     "name": "#%% md\n"
    }
   }
  },
  {
   "cell_type": "code",
   "source": [
    "import os\n",
    "from pymystem3 import Mystem\n",
    "mystem = Mystem()\n",
    "# mystemmed_file = open(\"mystemmed.txt\", \"w\")\n",
    "\n",
    "\n",
    "PATH = '/Users/vladislavasan/PycharmProjects/python_classwork_1/the_village'\n",
    "lines = []\n",
    "for root, dirs, files in os.walk(PATH):\n",
    "    for fl in files:\n",
    "        f = open(\"{}/{}\".format(root, fl)).read()\n",
    "        marked_files = lines.append(mystem.analyze(f))\n",
    "        #mystemmed_file.write(str(marked_files) + \"\\n\")"
   ],
   "metadata": {
    "collapsed": false,
    "pycharm": {
     "name": "#%% \n",
     "is_executing": false
    }
   },
   "execution_count": 5,
   "outputs": []
  },
  {
   "cell_type": "code",
   "execution_count": 25,
   "outputs": [
    {
     "traceback": [
      "\u001b[0;31m---------------------------------------------------------------------------\u001b[0m",
      "\u001b[0;31mAttributeError\u001b[0m                            Traceback (most recent call last)",
      "\u001b[0;32m<ipython-input-25-b2835d55b716>\u001b[0m in \u001b[0;36m<module>\u001b[0;34m\u001b[0m\n\u001b[1;32m      5\u001b[0m     \u001b[0;32mfor\u001b[0m \u001b[0ma\u001b[0m \u001b[0;32min\u001b[0m \u001b[0mline\u001b[0m\u001b[0;34m:\u001b[0m\u001b[0;34m\u001b[0m\u001b[0;34m\u001b[0m\u001b[0m\n\u001b[1;32m      6\u001b[0m         \u001b[0;32mif\u001b[0m \u001b[0ma\u001b[0m\u001b[0;34m[\u001b[0m\u001b[0mkey\u001b[0m\u001b[0;34m]\u001b[0m\u001b[0;34m:\u001b[0m\u001b[0;34m\u001b[0m\u001b[0;34m\u001b[0m\u001b[0m\n\u001b[0;32m----> 7\u001b[0;31m             \u001b[0mtexts\u001b[0m\u001b[0;34m.\u001b[0m\u001b[0mappend\u001b[0m\u001b[0;34m(\u001b[0m\u001b[0ma\u001b[0m\u001b[0;34m[\u001b[0m\u001b[0mkey\u001b[0m\u001b[0;34m]\u001b[0m\u001b[0;34m.\u001b[0m\u001b[0mitems\u001b[0m\u001b[0;34m)\u001b[0m\u001b[0;34m\u001b[0m\u001b[0;34m\u001b[0m\u001b[0m\n\u001b[0m\u001b[1;32m      8\u001b[0m \u001b[0;34m\u001b[0m\u001b[0m\n",
      "\u001b[0;31mAttributeError\u001b[0m: 'str' object has no attribute 'items'"
     ],
     "ename": "AttributeError",
     "evalue": "'str' object has no attribute 'items'",
     "output_type": "error"
    }
   ],
   "source": [
    "#for value in a['analysis']:\n",
    "texts = []\n",
    "key = 'text'\n",
    "for i,line in enumerate(lines):\n",
    "    for a in line:\n",
    "        if a[key]:\n",
    "            texts.append(a[key].items)"
   ],
   "metadata": {
    "collapsed": false,
    "pycharm": {
     "name": "#%% \n",
     "is_executing": false
    }
   }
  },
  {
   "cell_type": "code",
   "execution_count": 22,
   "outputs": [
    {
     "data": {
      "text/plain": "['text',\n 'text',\n 'text',\n 'text',\n 'text',\n 'text',\n 'text',\n 'text',\n 'text',\n 'text',\n 'text',\n 'text',\n 'text',\n 'text',\n 'text',\n 'text',\n 'text',\n 'text',\n 'text',\n 'text',\n 'text',\n 'text',\n 'text',\n 'text',\n 'text',\n 'text',\n 'text',\n 'text',\n 'text',\n 'text',\n 'text',\n 'text',\n 'text',\n 'text',\n 'text',\n 'text',\n 'text',\n 'text',\n 'text',\n 'text',\n 'text',\n 'text',\n 'text',\n 'text',\n 'text',\n 'text',\n 'text',\n 'text',\n 'text',\n 'text',\n 'text',\n 'text',\n 'text',\n 'text',\n 'text',\n 'text',\n 'text',\n 'text',\n 'text',\n 'text',\n 'text',\n 'text',\n 'text',\n 'text',\n 'text',\n 'text',\n 'text',\n 'text',\n 'text',\n 'text',\n 'text',\n 'text',\n 'text',\n 'text',\n 'text',\n 'text',\n 'text',\n 'text',\n 'text',\n 'text',\n 'text',\n 'text',\n 'text',\n 'text',\n 'text',\n 'text',\n 'text',\n 'text',\n 'text',\n 'text',\n 'text',\n 'text',\n 'text',\n 'text',\n 'text',\n 'text',\n 'text',\n 'text',\n 'text',\n 'text',\n 'text',\n 'text',\n 'text',\n 'text',\n 'text',\n 'text',\n 'text',\n 'text',\n 'text',\n 'text',\n 'text',\n 'text',\n 'text',\n 'text',\n 'text',\n 'text',\n 'text',\n 'text',\n 'text',\n 'text',\n 'text',\n 'text',\n 'text',\n 'text',\n 'text',\n 'text',\n 'text',\n 'text',\n 'text',\n 'text',\n 'text',\n 'text',\n 'text',\n 'text',\n 'text',\n 'text',\n 'text',\n 'text',\n 'text',\n 'text',\n 'text',\n 'text',\n 'text',\n 'text',\n 'text',\n 'text',\n 'text',\n 'text',\n 'text',\n 'text',\n 'text',\n 'text',\n 'text',\n 'text',\n 'text',\n 'text',\n 'text',\n 'text',\n 'text',\n 'text',\n 'text',\n 'text',\n 'text',\n 'text',\n 'text',\n 'text',\n 'text',\n 'text',\n 'text',\n 'text',\n 'text',\n 'text',\n 'text',\n 'text',\n 'text',\n 'text',\n 'text',\n 'text',\n 'text',\n 'text',\n 'text',\n 'text',\n 'text',\n 'text',\n 'text',\n 'text',\n 'text',\n 'text',\n 'text',\n 'text',\n 'text',\n 'text',\n 'text',\n 'text',\n 'text',\n 'text',\n 'text',\n 'text',\n 'text',\n 'text',\n 'text',\n 'text',\n 'text',\n 'text',\n 'text',\n 'text',\n 'text',\n 'text',\n 'text',\n 'text',\n 'text',\n 'text',\n 'text',\n 'text',\n 'text',\n 'text',\n 'text',\n 'text',\n 'text',\n 'text',\n 'text',\n 'text',\n 'text',\n 'text',\n 'text',\n 'text',\n 'text',\n 'text',\n 'text',\n 'text',\n 'text',\n 'text',\n 'text',\n 'text',\n 'text',\n 'text',\n 'text',\n 'text',\n 'text',\n 'text',\n 'text',\n 'text',\n 'text',\n 'text',\n 'text',\n 'text',\n 'text',\n 'text',\n 'text',\n 'text',\n 'text',\n 'text',\n 'text',\n 'text',\n 'text',\n 'text',\n 'text',\n 'text',\n 'text',\n 'text',\n 'text',\n 'text',\n 'text',\n 'text',\n 'text',\n 'text',\n 'text',\n 'text',\n 'text',\n 'text',\n 'text',\n 'text',\n 'text',\n 'text',\n 'text',\n 'text',\n 'text',\n 'text',\n 'text',\n 'text',\n 'text',\n 'text',\n 'text',\n 'text',\n 'text',\n 'text',\n 'text',\n 'text',\n 'text',\n 'text',\n 'text',\n 'text',\n 'text',\n 'text',\n 'text',\n 'text',\n 'text',\n 'text',\n 'text',\n 'text',\n 'text',\n 'text',\n 'text',\n 'text',\n 'text',\n 'text',\n 'text',\n 'text',\n 'text',\n 'text',\n 'text',\n 'text',\n 'text',\n 'text',\n 'text',\n 'text',\n 'text',\n 'text',\n 'text',\n 'text',\n 'text',\n 'text',\n 'text',\n 'text',\n 'text',\n 'text',\n 'text',\n 'text',\n 'text',\n 'text',\n 'text',\n 'text',\n 'text',\n 'text',\n 'text',\n 'text',\n 'text',\n 'text',\n 'text',\n 'text',\n 'text',\n 'text',\n 'text',\n 'text',\n 'text',\n 'text',\n 'text',\n 'text',\n 'text',\n 'text',\n 'text',\n 'text',\n 'text',\n 'text',\n 'text',\n 'text',\n 'text',\n 'text',\n 'text',\n 'text',\n 'text',\n 'text',\n 'text',\n 'text',\n 'text',\n 'text',\n 'text',\n 'text',\n 'text',\n 'text',\n 'text',\n 'text',\n 'text',\n 'text',\n 'text',\n 'text',\n 'text',\n 'text',\n 'text',\n 'text',\n 'text',\n 'text',\n 'text',\n 'text',\n 'text',\n 'text',\n 'text',\n 'text',\n 'text',\n 'text',\n 'text',\n 'text',\n 'text',\n 'text',\n 'text',\n 'text',\n 'text',\n 'text',\n 'text',\n 'text',\n 'text',\n 'text',\n 'text',\n 'text',\n 'text',\n 'text',\n 'text',\n 'text',\n 'text',\n 'text',\n 'text',\n 'text',\n 'text',\n 'text',\n 'text',\n 'text',\n 'text',\n 'text',\n 'text',\n 'text',\n 'text',\n 'text',\n 'text',\n 'text',\n 'text',\n 'text',\n 'text',\n 'text',\n 'text',\n 'text',\n 'text',\n 'text',\n 'text',\n 'text',\n 'text',\n 'text',\n 'text',\n 'text',\n 'text',\n 'text',\n 'text',\n 'text',\n 'text',\n 'text',\n 'text',\n 'text',\n 'text',\n 'text',\n 'text',\n 'text',\n 'text',\n 'text',\n 'text',\n 'text',\n 'text',\n 'text',\n 'text',\n 'text',\n 'text',\n 'text',\n 'text',\n 'text',\n 'text',\n 'text',\n 'text',\n 'text',\n 'text',\n 'text',\n 'text',\n 'text',\n 'text',\n 'text',\n 'text',\n 'text',\n 'text',\n 'text',\n 'text',\n 'text',\n 'text',\n 'text',\n 'text',\n 'text',\n 'text',\n 'text',\n 'text',\n 'text',\n 'text',\n 'text',\n 'text',\n 'text',\n 'text',\n 'text',\n 'text',\n 'text',\n 'text',\n 'text',\n 'text',\n 'text',\n 'text',\n 'text',\n 'text',\n 'text',\n 'text',\n 'text',\n 'text',\n 'text',\n 'text',\n 'text',\n 'text',\n 'text',\n 'text',\n 'text',\n 'text',\n 'text',\n 'text',\n 'text',\n 'text',\n 'text',\n 'text',\n 'text',\n 'text',\n 'text',\n 'text',\n 'text',\n 'text',\n 'text',\n 'text',\n 'text',\n 'text',\n 'text',\n 'text',\n 'text',\n 'text',\n 'text',\n 'text',\n 'text',\n 'text',\n 'text',\n 'text',\n 'text',\n 'text',\n 'text',\n 'text',\n 'text',\n 'text',\n 'text',\n 'text',\n 'text',\n 'text',\n 'text',\n 'text',\n 'text',\n 'text',\n 'text',\n 'text',\n 'text',\n 'text',\n 'text',\n 'text',\n 'text',\n 'text',\n 'text',\n 'text',\n 'text',\n 'text',\n 'text',\n 'text',\n 'text',\n 'text',\n 'text',\n 'text',\n 'text',\n 'text',\n 'text',\n 'text',\n 'text',\n 'text',\n 'text',\n 'text',\n 'text',\n 'text',\n 'text',\n 'text',\n 'text',\n 'text',\n 'text',\n 'text',\n 'text',\n 'text',\n 'text',\n 'text',\n 'text',\n 'text',\n 'text',\n 'text',\n 'text',\n 'text',\n 'text',\n 'text',\n 'text',\n 'text',\n 'text',\n 'text',\n 'text',\n 'text',\n 'text',\n 'text',\n 'text',\n 'text',\n 'text',\n 'text',\n 'text',\n 'text',\n 'text',\n 'text',\n 'text',\n 'text',\n 'text',\n 'text',\n 'text',\n 'text',\n 'text',\n 'text',\n 'text',\n 'text',\n 'text',\n 'text',\n 'text',\n 'text',\n 'text',\n 'text',\n 'text',\n 'text',\n 'text',\n 'text',\n 'text',\n 'text',\n 'text',\n 'text',\n 'text',\n 'text',\n 'text',\n 'text',\n 'text',\n 'text',\n 'text',\n 'text',\n 'text',\n 'text',\n 'text',\n 'text',\n 'text',\n 'text',\n 'text',\n 'text',\n 'text',\n 'text',\n 'text',\n 'text',\n 'text',\n 'text',\n 'text',\n 'text',\n 'text',\n 'text',\n 'text',\n 'text',\n 'text',\n 'text',\n 'text',\n 'text',\n 'text',\n 'text',\n 'text',\n 'text',\n 'text',\n 'text',\n 'text',\n 'text',\n 'text',\n 'text',\n 'text',\n 'text',\n 'text',\n 'text',\n 'text',\n 'text',\n 'text',\n 'text',\n 'text',\n 'text',\n 'text',\n 'text',\n 'text',\n 'text',\n 'text',\n 'text',\n 'text',\n 'text',\n 'text',\n 'text',\n 'text',\n 'text',\n 'text',\n 'text',\n 'text',\n 'text',\n 'text',\n 'text',\n 'text',\n 'text',\n 'text',\n 'text',\n 'text',\n 'text',\n 'text',\n 'text',\n 'text',\n 'text',\n 'text',\n 'text',\n 'text',\n 'text',\n 'text',\n 'text',\n 'text',\n 'text',\n 'text',\n 'text',\n 'text',\n 'text',\n 'text',\n 'text',\n 'text',\n 'text',\n 'text',\n 'text',\n 'text',\n 'text',\n 'text',\n 'text',\n 'text',\n 'text',\n 'text',\n 'text',\n 'text',\n 'text',\n 'text',\n 'text',\n 'text',\n 'text',\n 'text',\n 'text',\n 'text',\n 'text',\n 'text',\n 'text',\n 'text',\n 'text',\n 'text',\n 'text',\n 'text',\n 'text',\n 'text',\n 'text',\n 'text',\n 'text',\n 'text',\n 'text',\n 'text',\n 'text',\n 'text',\n 'text',\n 'text',\n 'text',\n 'text',\n 'text',\n 'text',\n 'text',\n 'text',\n 'text',\n 'text',\n 'text',\n 'text',\n 'text',\n 'text',\n 'text',\n 'text',\n 'text',\n 'text',\n 'text',\n 'text',\n 'text',\n 'text',\n 'text',\n 'text',\n 'text',\n 'text',\n 'text',\n 'text',\n 'text',\n 'text',\n 'text',\n 'text',\n 'text',\n 'text',\n 'text',\n 'text',\n 'text',\n 'text',\n 'text',\n 'text',\n 'text',\n 'text',\n 'text',\n 'text',\n 'text',\n 'text',\n 'text',\n 'text',\n 'text',\n 'text',\n 'text',\n 'text',\n 'text',\n 'text',\n 'text',\n 'text',\n 'text',\n 'text',\n 'text',\n 'text',\n 'text',\n 'text',\n 'text',\n 'text',\n 'text',\n 'text',\n 'text',\n 'text',\n 'text',\n 'text',\n 'text',\n 'text',\n 'text',\n 'text',\n 'text',\n 'text',\n 'text',\n 'text',\n 'text',\n 'text',\n 'text',\n 'text',\n 'text',\n 'text',\n 'text',\n 'text',\n 'text',\n 'text',\n 'text',\n 'text',\n 'text',\n 'text',\n 'text',\n 'text',\n 'text',\n 'text',\n 'text',\n 'text',\n 'text',\n 'text',\n 'text',\n 'text',\n 'text',\n 'text',\n 'text',\n 'text',\n 'text',\n 'text',\n 'text',\n 'text',\n 'text',\n 'text',\n 'text',\n 'text',\n 'text',\n 'text',\n 'text',\n 'text',\n 'text',\n 'text',\n 'text',\n 'text',\n 'text',\n 'text',\n 'text',\n 'text',\n 'text',\n 'text',\n 'text',\n 'text',\n 'text',\n 'text',\n 'text',\n 'text',\n 'text',\n 'text',\n 'text',\n 'text',\n 'text',\n 'text',\n 'text',\n 'text',\n 'text',\n 'text',\n 'text',\n 'text',\n 'text',\n 'text',\n 'text',\n 'text',\n 'text',\n 'text',\n 'text',\n 'text',\n 'text',\n 'text',\n 'text',\n 'text',\n 'text',\n 'text',\n 'text',\n 'text',\n 'text',\n 'text',\n 'text',\n 'text',\n 'text',\n 'text',\n 'text',\n 'text',\n 'text',\n 'text',\n 'text',\n 'text',\n 'text',\n 'text',\n 'text',\n 'text',\n 'text',\n 'text',\n 'text',\n 'text',\n 'text',\n 'text',\n 'text',\n 'text',\n 'text',\n 'text',\n 'text',\n 'text',\n 'text',\n 'text',\n 'text',\n 'text',\n 'text',\n 'text',\n 'text',\n 'text',\n 'text',\n 'text',\n 'text',\n 'text',\n 'text',\n 'text',\n 'text',\n 'text',\n 'text',\n 'text',\n 'text',\n 'text',\n 'text',\n 'text',\n 'text',\n 'text',\n 'text',\n 'text',\n 'text',\n 'text',\n 'text',\n 'text',\n 'text',\n 'text',\n 'text',\n 'text',\n 'text',\n 'text',\n 'text',\n 'text',\n ...]"
     },
     "metadata": {},
     "output_type": "execute_result",
     "execution_count": 22
    }
   ],
   "source": [
    "texts"
   ],
   "metadata": {
    "collapsed": false,
    "pycharm": {
     "name": "#%%\n",
     "is_executing": false
    }
   }
  }
 ],
 "metadata": {
  "kernelspec": {
   "display_name": "Python 3",
   "language": "python",
   "name": "python3"
  },
  "language_info": {
   "codemirror_mode": {
    "name": "ipython",
    "version": 2
   },
   "file_extension": ".py",
   "mimetype": "text/x-python",
   "name": "python",
   "nbconvert_exporter": "python",
   "pygments_lexer": "ipython2",
   "version": "2.7.6"
  },
  "pycharm": {
   "stem_cell": {
    "cell_type": "raw",
    "source": [],
    "metadata": {
     "collapsed": false
    }
   }
  }
 },
 "nbformat": 4,
 "nbformat_minor": 0
}