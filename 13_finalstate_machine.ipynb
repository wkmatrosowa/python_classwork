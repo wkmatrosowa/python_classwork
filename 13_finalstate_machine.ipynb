{
 "cells": [
  {
   "cell_type": "markdown",
   "metadata": {
    "collapsed": true,
    "pycharm": {
     "name": "#%% md\n"
    }
   },
   "source": [
    "Конечные автоматы – фреймворк для работы с правилами\n",
    "\n",
    "Идея: действительное число можно представить с помощью конечного автомата"
   ]
  },
  {
   "cell_type": "code",
   "execution_count": null,
   "outputs": [],
   "source": [
    "\n",
    "s = 'lkjbe <i>fejvevj</i> hefblief'\n"
   ],
   "metadata": {
    "collapsed": false,
    "pycharm": {
     "name": "#%%\n"
    }
   }
  },
  {
   "cell_type": "code",
   "execution_count": null,
   "outputs": [],
   "source": [
    "\n",
    "def adding(string, sym):\n",
    "    return string + sym\n",
    "\n",
    "def passing(string, sym):\n",
    "    return string\n"
   ],
   "metadata": {
    "collapsed": false,
    "pycharm": {
     "name": "#%%\n"
    }
   }
  },
  {
   "cell_type": "code",
   "execution_count": null,
   "outputs": [],
   "source": [
    "\n",
    "def event(ind, s):\n",
    "    if s[ind - 1] == '>':\n",
    "        return 'closing tag'\n",
    "    elif s[ind] == '<':\n",
    "        if s[ind + 1] == 'i':\n",
    "            return 'openning tag'\n",
    "        elif s[ind + 1] == '/':\n",
    "            return 'closing tag'\n",
    "    else:\n",
    "        return 'nothing'\n"
   ],
   "metadata": {
    "collapsed": false,
    "pycharm": {
     "name": "#%%\n"
    }
   }
  },
  {
   "cell_type": "code",
   "execution_count": null,
   "outputs": [],
   "source": [
    "\n",
    "table = {\n",
    "    ('ON_I', 'closing tag'): ['IN_I', adding],\n",
    "    ('ON_I', 'nothing'): ['ON_I', passing],\n",
    "    ('IN_I', 'nothing'): ['IN_I', adding],\n",
    "    ('IN_I', 'closing tag'): ['OUT', passing],\n",
    "    ('OUT', 'openning tag'): ['ON_I', passing],\n",
    "    ('OUT', 'nothing'): ['OUT', passing],\n",
    "    ('OUT', 'closing tag'): ['OUT', passing]\n",
    "}\n"
   ],
   "metadata": {
    "collapsed": false,
    "pycharm": {
     "name": "#%%\n"
    }
   }
  },
  {
   "cell_type": "code",
   "execution_count": null,
   "outputs": [],
   "source": [
    "\n",
    "state = 'OUT'\n",
    "string = ''\n",
    "for ind, sym in enumerate(s):\n",
    "    state, action = table[state, event(ind, s)]\n",
    "    string = action(string, sym)\n"
   ],
   "metadata": {
    "collapsed": false,
    "pycharm": {
     "name": "#%%\n"
    }
   }
  },
  {
   "cell_type": "code",
   "execution_count": null,
   "outputs": [],
   "source": [
    "\n",
    "print(string)\n",
    "\n",
    "\n",
    "\n",
    "\n",
    "\n"
   ],
   "metadata": {
    "collapsed": false,
    "pycharm": {
     "name": "#%%\n"
    }
   }
  }
 ],
 "metadata": {
  "kernelspec": {
   "display_name": "Python 3",
   "language": "python",
   "name": "python3"
  },
  "language_info": {
   "codemirror_mode": {
    "name": "ipython",
    "version": 2
   },
   "file_extension": ".py",
   "mimetype": "text/x-python",
   "name": "python",
   "nbconvert_exporter": "python",
   "pygments_lexer": "ipython2",
   "version": "2.7.6"
  },
  "pycharm": {
   "stem_cell": {
    "cell_type": "raw",
    "source": [],
    "metadata": {
     "collapsed": false
    }
   }
  }
 },
 "nbformat": 4,
 "nbformat_minor": 0
}