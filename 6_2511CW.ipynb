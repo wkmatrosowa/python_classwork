{
 "cells": [
  {
   "cell_type": "markdown",
   "metadata": {
    "collapsed": true,
    "pycharm": {
     "name": "#%% md\n"
    }
   },
   "source": [
    "# Морфологические анализаторы\n",
    "\n",
    "## Как выбрать между mystem и pymorphy2"
   ]
  },
  {
   "cell_type": "markdown",
   "source": [
    "## Mystem \n",
    "\n",
    "### Достоинства:\n",
    "\n",
    "1) Делает разбор быстро\n",
    "\n",
    "2) Даже если не знает слово, построит гипотезу о том, что это\n",
    "\n",
    "### Недостатки\n",
    "\n",
    "1) Мы не можем поменять ее код\n",
    "\n",
    "2) Запуск mystem занимает время (серьезное по компьютерным меркам)\n",
    "\n",
    "3) Не умеет снимать омонимию на уровне грамматической формы\n",
    "\n",
    "### Как использовать:\n",
    "\n",
    "1) Вариант общения с ним: нужно написать в командной строке mystem, а затем написать, что мы хотим сделать.\n",
    "\n",
    "Путь: D:\\M\\mystem (вариант для  Mac и Linux)\n",
    "\n",
    "2) Вариант общения с ним: разметь мне файл, который лежит у меня на компьютере,\n",
    "и выложи результат в размеченный файл\n",
    "\n",
    "D:\\M\\mystem D:\\M\\1.txt D:\\M\\1_tagged.txt\n",
    "\n",
    "3) Добавляем функцию \n",
    "\n",
    "-n – каждый результат разбора выводится на отдельной строке (списком)\n",
    "\n",
    "D:\\M\\mystem D:\\M\\1.txt D:\\M\\1_tagged.txt -n\n",
    "\n",
    "-c – получим все, что есть в оригинале, в т.ч. пробелы и знаки препинания\n",
    "\n",
    "-d – дезамбигуация (снять омонимию) на уровне леммы\n",
    "\n",
    "-i – Печатать грамматическую информацию, расшифровка ниже.\n",
    "\n",
    "-cid\n",
    "\n",
    "–e – кодировка ввода/вывода (на mac не нужно)\n",
    "### Вывод лемм\n",
    "\n",
    "{я}{пить|пила}\n",
    "\n",
    "После -n\n",
    "\n",
    "я\n",
    "пить|пила\n",
    "\n",
    "4) На Linux:\n",
    "\n",
    "wget http://...\n",
    "\n",
    "Так мы скачаем туда mystem\n",
    "\n",
    "Запускать ./mystem input.txt output.txt -ic"
   ],
   "metadata": {
    "collapsed": false,
    "pycharm": {
     "name": "#%% md\n"
    }
   }
  },
  {
   "cell_type": "markdown",
   "source": [
    "Внезапно – про .gitignore (потому что mystem добавлять в GitHub – плохая идея)\n",
    "\n",
    "Записать файл в .gitignore:\n",
    "*name*\n",
    "\n",
    "Записать приложение:\n",
    "*name*/*.exe*\n",
    "\n",
    "Если у нас 1000 файлов, надо написать программу на питоне, которая их обработает.\n",
    "\n",
    "Даже учить bash и power shell не придется)\n",
    "\n",
    "Основное время уходит на чтение и запись файлов, а не на обработку mystem-ом.\n",
    "Лучше, чтобы было небольшое количество файлов с кучей текста, а не наоборот."
   ],
   "metadata": {
    "collapsed": false,
    "pycharm": {
     "name": "#%% md\n"
    }
   }
  },
  {
   "cell_type": "code",
   "execution_count": null,
   "outputs": [],
   "source": [
    "import os\n",
    "path = \n",
    "lst = os.listdir(path)\n",
    "for fl in lst:\n",
    "    os.system(\"/Users/vladislavasan/Downloads/mystem {}\\{} result\\\\tagged_{} -cid\".format(path, fl, fl))\n",
    "    #{путь к файлу}\\{имя файла}\n",
    "    #{path}\\{fl}"
   ],
   "metadata": {
    "collapsed": false,
    "pycharm": {
     "name": "#%%\n"
    }
   }
  },
  {
   "cell_type": "markdown",
   "source": [
    "Правда ли, что каждый раз надо обрабатывать файл целиком? Нет!\n",
    "\n",
    "## pip\n",
    "\n",
    "Надо знать, где он лежит.\n",
    "\n",
    "Разные интерпретаторы питона могут иметь свои версии и свой pip, и тогда\n",
    "модули питона могут не работать в некоторых интерпретаторах, потому что\n",
    "у нас их целый выводок на компе.\n",
    "\n",
    "Можно сделать \"реестр\" mystem\n",
    "\n",
    "pip         | путь к пипу\n",
    "mystem      | путь к майстем\n",
    "python      | путь к python\n",
    "\n",
    "Надо найти, где лежит наш pip, тогда будет возможно его использовать проще.\n",
    "Ну еще можно, как обычно, pip3 install pymystem3\n",
    "\n",
    "pip ищет все, что нужно, сам в PyPi (это в интернете)\n",
    "\n",
    "### Импортируем mystem\n",
    "\n",
    "метод lemmatize"
   ],
   "metadata": {
    "collapsed": false,
    "pycharm": {
     "name": "#%% md\n"
    }
   }
  },
  {
   "cell_type": "code",
   "execution_count": 1,
   "outputs": [
    {
     "name": "stdout",
     "text": [
      "['мама', ' ', 'мыть', ' ', 'рама', '\\n']\n"
     ],
     "output_type": "stream"
    }
   ],
   "source": [
    "from pymystem3 import Mystem\n",
    "m = Mystem() #Mystem тут – это класс\n",
    "lemmas = m.lemmatize(\"мама мыла раму\") #mystem будет думать, что эта строчка – файл\n",
    "# леммы тут уже будут дезамбигуированы\n",
    "print(lemmas)"
   ],
   "metadata": {
    "collapsed": false,
    "pycharm": {
     "name": "#%%\n",
     "is_executing": false
    }
   }
  },
  {
   "cell_type": "markdown",
   "source": [
    "метод analyze\n",
    "[{\"text\": \"мыла\", \"analysis\":[{\"lex\": \"мыть\", \"gr\": V,несов,прош...}]\n",
    "Словарь – неупорядоченный"
   ],
   "metadata": {
    "collapsed": false,
    "pycharm": {
     "name": "#%% md\n"
    }
   }
  },
  {
   "cell_type": "code",
   "execution_count": 3,
   "outputs": [
    {
     "name": "stdout",
     "text": [
      "[{'analysis': [{'lex': 'мама', 'wt': 1, 'gr': 'S,жен,од=им,ед'}], 'text': 'мама'}, {'text': ' '}, {'analysis': [{'lex': 'мыть', 'wt': 0.441520999, 'gr': 'V,несов,пе=прош,ед,изъяв,жен'}], 'text': 'мыла'}, {'text': ' '}, {'analysis': [{'lex': 'рама', 'wt': 0.9993591156, 'gr': 'S,жен,неод=вин,ед'}], 'text': 'раму'}, {'text': '\\n'}]\nмама\n"
     ],
     "output_type": "stream"
    }
   ],
   "source": [
    "analyzed = m.analyze(\"мама мыла раму\") #выдает список словарей\n",
    "print(analyzed)\n",
    "print(analyzed[0][\"analysis\"][0][\"lex\"])"
   ],
   "metadata": {
    "collapsed": false,
    "pycharm": {
     "name": "#%%\n",
     "is_executing": false
    }
   }
  },
  {
   "cell_type": "markdown",
   "source": [
    "## Pymorphy2\n",
    "\n",
    "установить – pip3 install pymorphy2\n",
    "\n",
    "### Достоинства\n",
    "\n",
    "1) Написан на питоне (mystem предположительно на C)\n",
    "\n",
    "2) С ним можно обращаться, как с питоновской штукой\n",
    "\n",
    "3) Не нужно парсить выдачу информации\n",
    "\n",
    "4) Умеет слово в нужной форме генерировать\n",
    "\n",
    "### Недостатки\n",
    "\n",
    "1) Может работать медленнее mystem\n",
    "\n",
    "2) Не умеет в дезамбигуацию, покажет сразу несколько вариантов \n",
    "(pymorphy покажет тот вариант, который более частотен, чем)\n",
    "\n",
    "3) Плохо различает слова, которых нет в opencorpora\n",
    "\n",
    "### Как использовать:\n",
    "\n",
    "На выходе получим Parse(word='стали', tag=OpencorporaTag('VERB,perf,intr plur,past,indc'), normal_form='стать', score=0.984662, methods_stack=((<DictionaryAnalyzer>, 'стали', 904, 4),)),\n",
    "\n",
    "К сожалению, у них разные теги с mystem"
   ],
   "metadata": {
    "collapsed": false,
    "pycharm": {
     "name": "#%% md\n"
    }
   }
  },
  {
   "cell_type": "code",
   "execution_count": 8,
   "outputs": [
    {
     "name": "stdout",
     "text": [
      "стать\nVERB,perf,intr plur,past,indc\nЭто глагол\nVERB\n"
     ],
     "output_type": "stream"
    }
   ],
   "source": [
    "import pymorphy2\n",
    "morph = pymorphy2.MorphAnalyzer()\n",
    "morph.parse(\"стали\")\n",
    "p = morph.parse(\"стали\")[0]\n",
    "print(p.normal_form)\n",
    "\n",
    "print(p.tag)\n",
    "\n",
    "if \"VERB\" in p.tag:\n",
    "    print(\"Это глагол\")\n",
    "\n",
    "print(p.tag.POS) #часть речи"
   ],
   "metadata": {
    "collapsed": false,
    "pycharm": {
     "name": "#%%\n",
     "is_executing": false
    }
   }
  },
  {
   "cell_type": "markdown",
   "source": [
    "p.tag.gender – род\n",
    "\n"
   ],
   "metadata": {
    "collapsed": false,
    "pycharm": {
     "name": "#%% md\n"
    }
   }
  },
  {
   "cell_type": "code",
   "execution_count": null,
   "outputs": [],
   "source": [],
   "metadata": {
    "collapsed": false,
    "pycharm": {
     "name": "#%%"
    }
   }
  }
 ],
 "metadata": {
  "language_info": {
   "codemirror_mode": {
    "name": "ipython",
    "version": 2
   },
   "file_extension": ".py",
   "mimetype": "text/x-python",
   "name": "python",
   "nbconvert_exporter": "python",
   "pygments_lexer": "ipython2",
   "version": "2.7.6"
  },
  "kernelspec": {
   "name": "python3",
   "language": "python",
   "display_name": "Python 3"
  },
  "pycharm": {
   "stem_cell": {
    "cell_type": "raw",
    "source": [],
    "metadata": {
     "collapsed": false
    }
   }
  }
 },
 "nbformat": 4,
 "nbformat_minor": 0
}